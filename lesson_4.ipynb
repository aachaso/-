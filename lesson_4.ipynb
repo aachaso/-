{
 "cells": [
  {
   "cell_type": "markdown",
   "id": "b946b409",
   "metadata": {},
   "source": [
    "*Задание 1*\n",
    "\n",
    "Случайная непрерывная величина A имеет равномерное распределение на промежутке (200, 800].\n",
    "Найдите ее среднее значение и дисперсию.\n"
   ]
  },
  {
   "cell_type": "code",
   "execution_count": 1,
   "id": "4bfbc71d",
   "metadata": {},
   "outputs": [],
   "source": [
    "import pandas as pd\n",
    "import numpy as np\n",
    "from scipy import stats"
   ]
  },
  {
   "cell_type": "code",
   "execution_count": 39,
   "id": "45bc3a02",
   "metadata": {},
   "outputs": [],
   "source": [
    "x1 = 200\n",
    "x2 = 800"
   ]
  },
  {
   "cell_type": "code",
   "execution_count": 40,
   "id": "aa1a954e",
   "metadata": {},
   "outputs": [
    {
     "name": "stdout",
     "output_type": "stream",
     "text": [
      "дисперсия 30000.0\n"
     ]
    }
   ],
   "source": [
    "d_x = ((x2 - x1) ** 2) / 12\n",
    "print(f'дисперсия {d_x}')"
   ]
  },
  {
   "cell_type": "code",
   "execution_count": 41,
   "id": "0961d9cc",
   "metadata": {},
   "outputs": [
    {
     "name": "stdout",
     "output_type": "stream",
     "text": [
      "математическое ожидание 500.0\n"
     ]
    }
   ],
   "source": [
    "m_x = (x2 + x1) / 2\n",
    "print(f'математическое ожидание {m_x}')"
   ]
  },
  {
   "cell_type": "markdown",
   "id": "a429d6ed",
   "metadata": {},
   "source": [
    "*Задание 2*\n",
    "\n",
    "О случайной непрерывной равномерно распределенной величине B известно, что ее дисперсия равна 0.2.\n",
    "Можно ли найти правую границу величины B и ее среднее значение зная, что левая граница равна 0.5?\n",
    "Если да, найдите ее.\n"
   ]
  },
  {
   "cell_type": "code",
   "execution_count": 46,
   "id": "2b9e2c49",
   "metadata": {},
   "outputs": [],
   "source": [
    "d_x = 0.2\n",
    "x1 = 0.5"
   ]
  },
  {
   "cell_type": "code",
   "execution_count": 48,
   "id": "9e057530",
   "metadata": {},
   "outputs": [
    {
     "name": "stdout",
     "output_type": "stream",
     "text": [
      "правая граница 2.049193338482967\n"
     ]
    }
   ],
   "source": [
    "x2 = ((d_x * 12) ** 0.5) + x1\n",
    "print(f'правая граница {x2}')"
   ]
  },
  {
   "cell_type": "code",
   "execution_count": 49,
   "id": "1f26b861",
   "metadata": {},
   "outputs": [
    {
     "name": "stdout",
     "output_type": "stream",
     "text": [
      "математическое ожидание 1.2745966692414834\n"
     ]
    }
   ],
   "source": [
    "m_x = (x1 + x2) / 2\n",
    "print(f'математическое ожидание {m_x}')"
   ]
  },
  {
   "cell_type": "markdown",
   "id": "17345758",
   "metadata": {},
   "source": [
    "*Задание 3*\n",
    "\n",
    "Непрерывная случайная величина X распределена нормально и задана плотностью распределения\n",
    "f(x) = (1 / (4 * sqrt(2*pi))) * (exp(-(x+2)**2) / 32).\n",
    "Найдите:\n",
    "\n",
    "а). M(X)\n",
    "\n",
    "б). D(X)\n",
    "\n",
    "в). std(X) (среднее квадратичное отклонение)"
   ]
  },
  {
   "cell_type": "code",
   "execution_count": 53,
   "id": "a52e065e",
   "metadata": {},
   "outputs": [
    {
     "name": "stdout",
     "output_type": "stream",
     "text": [
      "M(X) = -2, D(X) = 16\n"
     ]
    }
   ],
   "source": [
    "print(f'M(X) = -2, D(X) = 16')"
   ]
  },
  {
   "cell_type": "code",
   "execution_count": 54,
   "id": "dac1cd8f",
   "metadata": {},
   "outputs": [
    {
     "name": "stdout",
     "output_type": "stream",
     "text": [
      "std(X) = 4.0\n"
     ]
    }
   ],
   "source": [
    "print(f'std(X) = {16 ** 0.5}')"
   ]
  },
  {
   "cell_type": "markdown",
   "id": "5728f6b2",
   "metadata": {},
   "source": [
    "*Задание 4*\n",
    "\n",
    "Рост взрослого населения города X имеет нормальное распределение.\n",
    "Причем, средний рост равен 174 см, а среднее квадратичное отклонение равно 8 см.\n",
    "Какова вероятность того, что случайным образом выбранный взрослый человек имеет рост:\n",
    "\n",
    "а). больше 182 см\n",
    "б). больше 190 см\n",
    "в). от 166 см до 190 см\n",
    "г). от 166 см до 182 см\n",
    "д). от 158 см до 190 см\n",
    "е). не выше 150 см или не ниже 190 см\n",
    "ё). не выше 150 см или не ниже 198 см\n",
    "ж). ниже 166 см.\n"
   ]
  },
  {
   "cell_type": "code",
   "execution_count": 30,
   "id": "9467b8b3",
   "metadata": {},
   "outputs": [],
   "source": [
    "m_x = 174\n",
    "std_x = 8\n",
    "d_x = std_x ** 2"
   ]
  },
  {
   "cell_type": "code",
   "execution_count": 31,
   "id": "73ce4f79",
   "metadata": {},
   "outputs": [],
   "source": [
    "norm = stats.norm(loc=m_x, scale=d_x)"
   ]
  },
  {
   "cell_type": "code",
   "execution_count": 33,
   "id": "bbb8d923",
   "metadata": {},
   "outputs": [
    {
     "name": "stdout",
     "output_type": "stream",
     "text": [
      "вероятность того, что больше 182 см 0.4502617751698871\n"
     ]
    }
   ],
   "source": [
    "print(f'вероятность того, что больше 182 см = {1 - norm.cdf(182)}')"
   ]
  },
  {
   "cell_type": "code",
   "execution_count": 34,
   "id": "1b48e71e",
   "metadata": {},
   "outputs": [
    {
     "name": "stdout",
     "output_type": "stream",
     "text": [
      "вероятность того, что больше 190 см 0.4012936743170763\n"
     ]
    }
   ],
   "source": [
    "print(f'вероятность того, что больше 190 см = {1 - norm.cdf(190)}')"
   ]
  },
  {
   "cell_type": "code",
   "execution_count": 36,
   "id": "9dd58ee5",
   "metadata": {},
   "outputs": [
    {
     "name": "stdout",
     "output_type": "stream",
     "text": [
      "вероятность того, что больше  от 166 см до 190 см = 0.45026176872425694\n"
     ]
    }
   ],
   "source": [
    "print(f'вероятность того, что больше  от 166 см до 190 см = {norm.cdf(166) - norm.cdf(-190)}')"
   ]
  },
  {
   "cell_type": "code",
   "execution_count": 37,
   "id": "7f0040ba",
   "metadata": {},
   "outputs": [
    {
     "name": "stdout",
     "output_type": "stream",
     "text": [
      "вероятность того, что больше  от 166 см до 182 см = 0.4502617618730355\n"
     ]
    }
   ],
   "source": [
    "print(f'вероятность того, что больше  от 166 см до 182 см = {norm.cdf(166) - norm.cdf(-182)}')"
   ]
  },
  {
   "cell_type": "code",
   "execution_count": 38,
   "id": "6cb3514a",
   "metadata": {},
   "outputs": [
    {
     "name": "stdout",
     "output_type": "stream",
     "text": [
      "вероятность того, что больше от 158 см до 190 см = 0.40129366787144616\n"
     ]
    }
   ],
   "source": [
    "print(f'вероятность того, что больше от 158 см до 190 см = {norm.cdf(158) - norm.cdf(-190)}')"
   ]
  },
  {
   "cell_type": "code",
   "execution_count": 40,
   "id": "c6fea33c",
   "metadata": {},
   "outputs": [
    {
     "name": "stdout",
     "output_type": "stream",
     "text": [
      "вероятность того, что не выше 150 см = 0.3480372218370523, не ниже 190 см = 0.4012936743170763\n"
     ]
    }
   ],
   "source": [
    "print(f'вероятность того, что не выше 150 см = {norm.cdf(149)}, не ниже 190 см = {1 - norm.cdf(190)}')"
   ]
  },
  {
   "cell_type": "code",
   "execution_count": 41,
   "id": "5d45f8c2",
   "metadata": {},
   "outputs": [
    {
     "name": "stdout",
     "output_type": "stream",
     "text": [
      "вероятность того, что не выше 150 см = 0.3480372218370523, не ниже 190 см = 0.35383023332727626\n"
     ]
    }
   ],
   "source": [
    "print(f'вероятность того, что не выше 150 см = {norm.cdf(149)}, не ниже 198 см = {1 - norm.cdf(198)}')"
   ]
  },
  {
   "cell_type": "code",
   "execution_count": 42,
   "id": "074f62af",
   "metadata": {},
   "outputs": [
    {
     "name": "stdout",
     "output_type": "stream",
     "text": [
      "вероятность того, что ниже 166 см = 0.4502617751698871\n"
     ]
    }
   ],
   "source": [
    "print(f'вероятность того, что ниже 166 см = {norm.cdf(166)}')"
   ]
  },
  {
   "cell_type": "markdown",
   "id": "fb2674c7",
   "metadata": {},
   "source": [
    "*Задание 5*\n",
    "\n",
    "На сколько сигм (средних квадратичных отклонений) отклоняется рост человека, равный 190 см, от\n",
    "математического ожидания роста в популяции, в которой M(X) = 178 см и D(X) = 25 кв.см?"
   ]
  },
  {
   "cell_type": "code",
   "execution_count": 49,
   "id": "f929bd29",
   "metadata": {},
   "outputs": [],
   "source": [
    "m_x = 178\n",
    "std_x = 5\n",
    "d_x = 25\n",
    "x = 190"
   ]
  },
  {
   "cell_type": "code",
   "execution_count": 50,
   "id": "ca642ed0",
   "metadata": {},
   "outputs": [],
   "source": [
    "o_1 = m_x + std_x\n",
    "o_2 = m_x + 2 * std_x\n",
    "o_3 = m_x + 3 * std_x"
   ]
  },
  {
   "cell_type": "code",
   "execution_count": 51,
   "id": "eeebd263",
   "metadata": {},
   "outputs": [
    {
     "name": "stdout",
     "output_type": "stream",
     "text": [
      "От µ − 2σ до µ + 2σ — около 95% массы, правило двух сигм\n"
     ]
    }
   ],
   "source": [
    "if x >= o_3:\n",
    "    print('От µ − 3σ до µ + 3σ — около 99.7% массы, правило трёх сигм')\n",
    "elif x >= o_2:\n",
    "    print('От µ − 2σ до µ + 2σ — около 95% массы, правило двух сигм')\n",
    "else:\n",
    "    print('Интервал от µ − σ до µ + σ - стандартное отклонение содержит около 68% вероятностной массы')"
   ]
  }
 ],
 "metadata": {
  "kernelspec": {
   "display_name": "Python 3",
   "language": "python",
   "name": "python3"
  },
  "language_info": {
   "codemirror_mode": {
    "name": "ipython",
    "version": 3
   },
   "file_extension": ".py",
   "mimetype": "text/x-python",
   "name": "python",
   "nbconvert_exporter": "python",
   "pygments_lexer": "ipython3",
   "version": "3.8.8"
  }
 },
 "nbformat": 4,
 "nbformat_minor": 5
}
