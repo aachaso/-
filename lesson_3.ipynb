{
 "cells": [
  {
   "cell_type": "markdown",
   "id": "a8fd0c40",
   "metadata": {},
   "source": [
    "**Задача 1**\n",
    "\n",
    "Даны значения зарплат из выборки выпускников:\n",
    "100, 80, 75, 77, 89, 33, 45, 25, 65, 17, 30, 230, 24, 57, 55, 70, 75, 65, 84, 90, 150\n",
    " \n",
    "Используя только встроенные питоновские функции и структуры данных (т.е. без библиотек numpy, pandas и др.), посчитайте (несмещённое) среднее квадратичное отклонение для данной выборки."
   ]
  },
  {
   "cell_type": "code",
   "execution_count": 64,
   "id": "175139d2",
   "metadata": {},
   "outputs": [],
   "source": [
    "import pandas as pd\n",
    "import math as m"
   ]
  },
  {
   "cell_type": "code",
   "execution_count": 65,
   "id": "1ee619ec",
   "metadata": {},
   "outputs": [],
   "source": [
    "graduate_salaries = pd.DataFrame({\"salaries\": [100, 80, 75, 77, 89, 33, 45, 25, 65, 17, \n",
    "                                               30, 230, 24, 57, 55, 70, 75, 65, 84, 90, 150]})"
   ]
  },
  {
   "cell_type": "code",
   "execution_count": 72,
   "id": "8d292f5d",
   "metadata": {},
   "outputs": [],
   "source": [
    "salaries_list = [100, 80, 75, 77, 89, 33, 45, 25, 65, 17, 30, 230, 24, 57, 55, 70, 75, 65, 84, 90, 150]"
   ]
  },
  {
   "cell_type": "code",
   "execution_count": 74,
   "id": "1ea62aa5",
   "metadata": {},
   "outputs": [
    {
     "data": {
      "text/plain": [
       "73.14285714285714"
      ]
     },
     "execution_count": 74,
     "metadata": {},
     "output_type": "execute_result"
    }
   ],
   "source": [
    "sum = 0\n",
    "count = len(salaries_list)\n",
    "\n",
    "for el in salaries_list:\n",
    "    sum += el\n",
    "    \n",
    "s_mean = sum / count\n",
    "s_mean"
   ]
  },
  {
   "cell_type": "code",
   "execution_count": null,
   "id": "8058c230",
   "metadata": {},
   "outputs": [],
   "source": [
    "count"
   ]
  },
  {
   "cell_type": "code",
   "execution_count": 82,
   "id": "ac6e2bcb",
   "metadata": {},
   "outputs": [
    {
     "data": {
      "text/plain": [
       "[721.3061224,\n",
       " 47.0204082,\n",
       " 3.4489796,\n",
       " 14.877551,\n",
       " 251.4489796,\n",
       " 1611.4489796,\n",
       " 792.0204082,\n",
       " 2317.7346939,\n",
       " 66.3061224,\n",
       " 3152.0204082,\n",
       " 1861.3061224,\n",
       " 24604.1632653,\n",
       " 2415.0204082,\n",
       " 260.5918367,\n",
       " 329.1632653,\n",
       " 9.877551,\n",
       " 3.4489796,\n",
       " 66.3061224,\n",
       " 117.877551,\n",
       " 284.1632653,\n",
       " 5907.0204082]"
      ]
     },
     "execution_count": 82,
     "metadata": {},
     "output_type": "execute_result"
    }
   ],
   "source": [
    "x_list = list(map(lambda x: round((x - s_mean) ** 2, 7), salaries_list))\n",
    "x_list"
   ]
  },
  {
   "cell_type": "code",
   "execution_count": 87,
   "id": "78d8c2da",
   "metadata": {},
   "outputs": [],
   "source": [
    "x_list_sum = 0\n",
    "\n",
    "for el in x_list:\n",
    "    x_list_sum += el\n",
    "    \n",
    "x_list_sum = x_list_sum"
   ]
  },
  {
   "cell_type": "code",
   "execution_count": 89,
   "id": "6f9eb03c",
   "metadata": {},
   "outputs": [
    {
     "name": "stdout",
     "output_type": "stream",
     "text": [
      "Среднее квадратичное отклонение для выборки = 47.34795214\n"
     ]
    }
   ],
   "source": [
    "itog_1 = (x_list_sum / (count - 1)) ** 0.5\n",
    "print(f'Среднее квадратичное отклонение для выборки = {round(itog_1, 8)}')"
   ]
  },
  {
   "cell_type": "markdown",
   "id": "da685ac1",
   "metadata": {},
   "source": [
    "**Задача 2**\n",
    "\n",
    "Найдите число выбросов в выборке из задачи 1. Для определения выбросов используйте методику как при построении “усов” в boxplot, однако, как и в задаче 1, пользоваться можно только встроенными функциями и структурами данных."
   ]
  },
  {
   "cell_type": "code",
   "execution_count": 106,
   "id": "e7507a3c",
   "metadata": {},
   "outputs": [],
   "source": [
    "salaries_list.sort()"
   ]
  },
  {
   "cell_type": "code",
   "execution_count": 96,
   "id": "c926d0ce",
   "metadata": {},
   "outputs": [
    {
     "data": {
      "text/plain": [
       "10"
      ]
     },
     "execution_count": 96,
     "metadata": {},
     "output_type": "execute_result"
    }
   ],
   "source": [
    "n = count // 2\n",
    "n"
   ]
  },
  {
   "cell_type": "code",
   "execution_count": 98,
   "id": "8dcb868e",
   "metadata": {},
   "outputs": [
    {
     "data": {
      "text/plain": [
       "70"
      ]
     },
     "execution_count": 98,
     "metadata": {},
     "output_type": "execute_result"
    }
   ],
   "source": [
    "s_median = salaries_list[10]\n",
    "s_median"
   ]
  },
  {
   "cell_type": "code",
   "execution_count": 99,
   "id": "543f1a1d",
   "metadata": {},
   "outputs": [
    {
     "data": {
      "text/plain": [
       "1"
      ]
     },
     "execution_count": 99,
     "metadata": {},
     "output_type": "execute_result"
    }
   ],
   "source": [
    "count % 4"
   ]
  },
  {
   "cell_type": "code",
   "execution_count": 100,
   "id": "3be31b0d",
   "metadata": {},
   "outputs": [
    {
     "data": {
      "text/plain": [
       "45"
      ]
     },
     "execution_count": 100,
     "metadata": {},
     "output_type": "execute_result"
    }
   ],
   "source": [
    "q1 = salaries_list[count // 4]\n",
    "q1"
   ]
  },
  {
   "cell_type": "code",
   "execution_count": 102,
   "id": "277c89ec",
   "metadata": {},
   "outputs": [
    {
     "data": {
      "text/plain": [
       "84"
      ]
     },
     "execution_count": 102,
     "metadata": {},
     "output_type": "execute_result"
    }
   ],
   "source": [
    "q3 = salaries_list[3 * count // 4]\n",
    "q3"
   ]
  },
  {
   "cell_type": "code",
   "execution_count": 103,
   "id": "5e3d5ecd",
   "metadata": {},
   "outputs": [
    {
     "data": {
      "text/plain": [
       "39"
      ]
     },
     "execution_count": 103,
     "metadata": {},
     "output_type": "execute_result"
    }
   ],
   "source": [
    "delta_q = q3 - q1\n",
    "delta_q"
   ]
  },
  {
   "cell_type": "code",
   "execution_count": 104,
   "id": "5f2eeb45",
   "metadata": {},
   "outputs": [],
   "source": [
    "i_border = delta_q * 1.5 \n",
    "min_border = q1 - i_border \n",
    "max_border = q3 + i_border "
   ]
  },
  {
   "cell_type": "code",
   "execution_count": 107,
   "id": "30d30ca1",
   "metadata": {},
   "outputs": [
    {
     "name": "stdout",
     "output_type": "stream",
     "text": [
      "число выбросов в выборке из задачи 1 = 2\n"
     ]
    }
   ],
   "source": [
    "num_em = 0\n",
    "\n",
    "for el in salaries_list:\n",
    "    if el > max_border or el < min_border:\n",
    "        num_em += 1\n",
    "    else:\n",
    "        num_em += 0\n",
    "\n",
    "print(f'число выбросов в выборке из задачи 1 = {num_em}')"
   ]
  },
  {
   "cell_type": "markdown",
   "id": "7b8fab82",
   "metadata": {},
   "source": [
    "**Задача 3**\n",
    "\n",
    "В университет на факультет A поступило 100 человек, на факультет B - 90 человек и на факультет C - 45 человек. Вероятность того, что студент с факультета A сдаст первую сессию, равна 0.6. Для студента с факультета B эта вероятность равна 0.7, а для студента с факультета C - 0.8. Случайным образом выбирается студент, сдавший первую сессию. Какое событие наиболее вероятно:\n",
    "\n",
    "1.студент учится на факультете A,\n",
    "\n",
    "2.студент учится на факультете B,\n",
    "\n",
    "3.студент учится на факультете C?\n",
    "\n",
    "*Замечание: да, эта задача не на тему статистики, но тема важная, и её стоит иногда освежать в памяти.*"
   ]
  },
  {
   "cell_type": "code",
   "execution_count": 111,
   "id": "d00f9590",
   "metadata": {},
   "outputs": [],
   "source": [
    "fac_a = 100\n",
    "fac_b = 90\n",
    "fac_c = 45\n",
    "fac_total = 235\n",
    "\n",
    "p_a = 0.6\n",
    "p_b = 0.7\n",
    "p_c = 0.8"
   ]
  },
  {
   "cell_type": "code",
   "execution_count": 113,
   "id": "23e40b71",
   "metadata": {},
   "outputs": [
    {
     "data": {
      "text/plain": [
       "0.425531914893617"
      ]
     },
     "execution_count": 113,
     "metadata": {},
     "output_type": "execute_result"
    }
   ],
   "source": [
    "p1_a = fac_a / fac_total\n",
    "p1_a"
   ]
  },
  {
   "cell_type": "code",
   "execution_count": 114,
   "id": "0f9989d7",
   "metadata": {},
   "outputs": [
    {
     "data": {
      "text/plain": [
       "0.3829787234042553"
      ]
     },
     "execution_count": 114,
     "metadata": {},
     "output_type": "execute_result"
    }
   ],
   "source": [
    "p1_b = fac_b / fac_total\n",
    "p1_b"
   ]
  },
  {
   "cell_type": "code",
   "execution_count": 115,
   "id": "fd8b2e90",
   "metadata": {},
   "outputs": [
    {
     "data": {
      "text/plain": [
       "0.19148936170212766"
      ]
     },
     "execution_count": 115,
     "metadata": {},
     "output_type": "execute_result"
    }
   ],
   "source": [
    "p1_c = fac_c / fac_total\n",
    "p1_c"
   ]
  },
  {
   "cell_type": "code",
   "execution_count": 116,
   "id": "67fb72e2",
   "metadata": {},
   "outputs": [
    {
     "data": {
      "text/plain": [
       "1.0"
      ]
     },
     "execution_count": 116,
     "metadata": {},
     "output_type": "execute_result"
    }
   ],
   "source": [
    "p1_a + p1_b + p1_c"
   ]
  },
  {
   "cell_type": "code",
   "execution_count": 118,
   "id": "19931ccf",
   "metadata": {},
   "outputs": [
    {
     "data": {
      "text/plain": [
       "0.676595744680851"
      ]
     },
     "execution_count": 118,
     "metadata": {},
     "output_type": "execute_result"
    }
   ],
   "source": [
    "p_all_success = p_a * p1_a + p_b * p1_b + p_c * p1_c\n",
    "p_all_success"
   ]
  },
  {
   "cell_type": "code",
   "execution_count": 120,
   "id": "617e2673",
   "metadata": {},
   "outputs": [
    {
     "data": {
      "text/plain": [
       "0.32340425531914896"
      ]
     },
     "execution_count": 120,
     "metadata": {},
     "output_type": "execute_result"
    }
   ],
   "source": [
    "p_all_loss =  (1 - p_a) * p1_a + (1 - p_b) * p1_b + (1 - p_c) * p1_c\n",
    "p_all_loss"
   ]
  },
  {
   "cell_type": "code",
   "execution_count": 121,
   "id": "a21f4407",
   "metadata": {},
   "outputs": [
    {
     "data": {
      "text/plain": [
       "1.0"
      ]
     },
     "execution_count": 121,
     "metadata": {},
     "output_type": "execute_result"
    }
   ],
   "source": [
    "p_all_success + p_all_loss"
   ]
  },
  {
   "cell_type": "code",
   "execution_count": 123,
   "id": "f0accd3b",
   "metadata": {},
   "outputs": [
    {
     "data": {
      "text/plain": [
       "0.3773584905660377"
      ]
     },
     "execution_count": 123,
     "metadata": {},
     "output_type": "execute_result"
    }
   ],
   "source": [
    "p_success_a = (p_a * p1_a) / p_all_success\n",
    "p_success_a"
   ]
  },
  {
   "cell_type": "code",
   "execution_count": 124,
   "id": "9db405b7",
   "metadata": {},
   "outputs": [
    {
     "data": {
      "text/plain": [
       "0.39622641509433965"
      ]
     },
     "execution_count": 124,
     "metadata": {},
     "output_type": "execute_result"
    }
   ],
   "source": [
    "p_success_b = (p_b * p1_b) / p_all_success\n",
    "p_success_b"
   ]
  },
  {
   "cell_type": "code",
   "execution_count": 125,
   "id": "83ed391a",
   "metadata": {},
   "outputs": [
    {
     "data": {
      "text/plain": [
       "0.22641509433962265"
      ]
     },
     "execution_count": 125,
     "metadata": {},
     "output_type": "execute_result"
    }
   ],
   "source": [
    "p_success_c = (p_c * p1_c) / p_all_success\n",
    "p_success_c"
   ]
  },
  {
   "cell_type": "code",
   "execution_count": 128,
   "id": "9c03df69",
   "metadata": {},
   "outputs": [
    {
     "name": "stdout",
     "output_type": "stream",
     "text": [
      "событие наиболее вероятно c вероятностью =  0.39622641509433965\n"
     ]
    }
   ],
   "source": [
    "p_list = [p_success_a, p_success_b, p_success_c]\n",
    "print (f'событие наиболее вероятно c вероятностью =  {max(p_list)}')"
   ]
  }
 ],
 "metadata": {
  "kernelspec": {
   "display_name": "Python 3",
   "language": "python",
   "name": "python3"
  },
  "language_info": {
   "codemirror_mode": {
    "name": "ipython",
    "version": 3
   },
   "file_extension": ".py",
   "mimetype": "text/x-python",
   "name": "python",
   "nbconvert_exporter": "python",
   "pygments_lexer": "ipython3",
   "version": "3.8.8"
  }
 },
 "nbformat": 4,
 "nbformat_minor": 5
}
