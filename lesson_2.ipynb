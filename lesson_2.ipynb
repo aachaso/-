{
 "cells": [
  {
   "cell_type": "code",
   "execution_count": 11,
   "id": "fed22196",
   "metadata": {},
   "outputs": [],
   "source": [
    "import numpy as np\n",
    "import pandas as pd\n",
    "\n",
    "def combinations(n: int, k: int)-> int:\n",
    "    \"\"\"Число сочетаний\"\"\"\n",
    "    \n",
    "    return np.math.factorial(n) // (np.math.factorial(k) * np.math.factorial(n - k))"
   ]
  },
  {
   "cell_type": "markdown",
   "id": "b3502da7",
   "metadata": {},
   "source": [
    "**Задачи 1 и 2**\n",
    "Контрольная работа состоит из пяти вопросов. На каждый вопрос приведено четыре варианта ответа, один из которых правильный. Случайная величина X задаёт число правильных ответов при простом угадывании. Найдите математическое ожидание данной случайной величины. Найдите дисперсию случайной величины X.\n",
    "\n",
    "*Подсказка: постройте закон распределения случайной величины X.*"
   ]
  },
  {
   "cell_type": "markdown",
   "id": "f383829a",
   "metadata": {},
   "source": [
    "$$P(X = k) = C_n^k p^k (1 - p)^{n - k}$$"
   ]
  },
  {
   "cell_type": "code",
   "execution_count": 24,
   "id": "5af5b2cb",
   "metadata": {},
   "outputs": [
    {
     "data": {
      "text/html": [
       "<div>\n",
       "<style scoped>\n",
       "    .dataframe tbody tr th:only-of-type {\n",
       "        vertical-align: middle;\n",
       "    }\n",
       "\n",
       "    .dataframe tbody tr th {\n",
       "        vertical-align: top;\n",
       "    }\n",
       "\n",
       "    .dataframe thead th {\n",
       "        text-align: right;\n",
       "    }\n",
       "</style>\n",
       "<table border=\"1\" class=\"dataframe\">\n",
       "  <thead>\n",
       "    <tr style=\"text-align: right;\">\n",
       "      <th></th>\n",
       "      <th>X</th>\n",
       "      <th>P</th>\n",
       "    </tr>\n",
       "  </thead>\n",
       "  <tbody>\n",
       "    <tr>\n",
       "      <th>0</th>\n",
       "      <td>0</td>\n",
       "      <td>0.237305</td>\n",
       "    </tr>\n",
       "    <tr>\n",
       "      <th>1</th>\n",
       "      <td>1</td>\n",
       "      <td>0.395508</td>\n",
       "    </tr>\n",
       "    <tr>\n",
       "      <th>2</th>\n",
       "      <td>2</td>\n",
       "      <td>0.263672</td>\n",
       "    </tr>\n",
       "    <tr>\n",
       "      <th>3</th>\n",
       "      <td>3</td>\n",
       "      <td>0.087891</td>\n",
       "    </tr>\n",
       "    <tr>\n",
       "      <th>4</th>\n",
       "      <td>4</td>\n",
       "      <td>0.014648</td>\n",
       "    </tr>\n",
       "    <tr>\n",
       "      <th>5</th>\n",
       "      <td>5</td>\n",
       "      <td>0.000977</td>\n",
       "    </tr>\n",
       "  </tbody>\n",
       "</table>\n",
       "</div>"
      ],
      "text/plain": [
       "   X         P\n",
       "0  0  0.237305\n",
       "1  1  0.395508\n",
       "2  2  0.263672\n",
       "3  3  0.087891\n",
       "4  4  0.014648\n",
       "5  5  0.000977"
      ]
     },
     "execution_count": 24,
     "metadata": {},
     "output_type": "execute_result"
    }
   ],
   "source": [
    "n = 5\n",
    "p = 1/4\n",
    "x_k = []\n",
    "i = []\n",
    "\n",
    "for el in range(0,6):\n",
    "    p_x = combinations(5, el) * (1/4)**el * (3/4)**(5-el)\n",
    "    x_k.append(p_x)\n",
    "    i.append(el)\n",
    "    \n",
    "data = pd.DataFrame({'X': i, 'P': x_k})\n",
    "data"
   ]
  },
  {
   "cell_type": "markdown",
   "id": "e2f49542",
   "metadata": {},
   "source": [
    " $$M(X) = \\displaystyle\\sum_i p_i x_i = p_1 x_1 + p_2 x_2 + \\dots$$"
   ]
  },
  {
   "cell_type": "code",
   "execution_count": 29,
   "id": "b8ad3171",
   "metadata": {},
   "outputs": [
    {
     "name": "stdout",
     "output_type": "stream",
     "text": [
      "1.25\n"
     ]
    }
   ],
   "source": [
    "m_x = (np.array(i) * np.array(x_k)).sum()\n",
    "print(m_x)"
   ]
  },
  {
   "cell_type": "markdown",
   "id": "8a8c3b25",
   "metadata": {},
   "source": [
    "$$D(X) = M \\left( (X - M(X))^2 \\right).$$"
   ]
  },
  {
   "cell_type": "code",
   "execution_count": 32,
   "id": "049b5c4a",
   "metadata": {},
   "outputs": [
    {
     "name": "stdout",
     "output_type": "stream",
     "text": [
      "0.9375\n"
     ]
    }
   ],
   "source": [
    "d_x = (((i - m_x) ** 2) * x_k).sum()\n",
    "print(d_x)"
   ]
  },
  {
   "cell_type": "markdown",
   "id": "f6e75e40",
   "metadata": {},
   "source": [
    "$$M(X) = np, \\: D(X) = np(1 - p).$$"
   ]
  },
  {
   "cell_type": "code",
   "execution_count": 37,
   "id": "246bab60",
   "metadata": {},
   "outputs": [
    {
     "name": "stdout",
     "output_type": "stream",
     "text": [
      "M(X) = 1.25\n",
      "D(X) = 0.9375\n"
     ]
    }
   ],
   "source": [
    "print(f'M(X) = {n*p}')\n",
    "print(f'D(X) = {n*p*(1 - p)}')"
   ]
  },
  {
   "cell_type": "markdown",
   "id": "6cd954e7",
   "metadata": {},
   "source": [
    "**Задача 3**\n",
    "Пользователь получает в среднем 10 писем со спамом на свой почтовый ящик за сутки. Найти число N, такое, что с вероятностью 0.95 пользователь получит не более N писем со спамом за текущий день"
   ]
  },
  {
   "cell_type": "code",
   "execution_count": 38,
   "id": "4e1a5a2c",
   "metadata": {},
   "outputs": [],
   "source": [
    "def poisson_proba(k: int, lambda_: float) -> float:\n",
    "    \"\"\"Формула Пуассона.\n",
    "    \"\"\"\n",
    "    \n",
    "    return (lambda_ ** k) * (np.exp(-lambda_)) / np.math.factorial(k)"
   ]
  },
  {
   "cell_type": "code",
   "execution_count": 48,
   "id": "909cfa47",
   "metadata": {},
   "outputs": [
    {
     "name": "stdout",
     "output_type": "stream",
     "text": [
      "N = 15\n"
     ]
    }
   ],
   "source": [
    "lam = 10\n",
    "P_N = 0.95\n",
    "n_count = 0\n",
    "P_i = 0\n",
    "\n",
    "while P_N != P_i:\n",
    "    n_count += 1\n",
    "    P_i = round(sum(poisson_proba(k=i, lambda_=lam) for i in range(n_count)), 2)\n",
    "else:\n",
    "    print(f'N = {n_count-1}')\n",
    "        "
   ]
  },
  {
   "cell_type": "markdown",
   "id": "9ab87bcf",
   "metadata": {},
   "source": [
    "**Задача 4**\n",
    "Производятся выстрелы по мишени. Вероятность попадания в мишень при одном выстреле равна 0.01. Сколько выстрелов нужно сделать чтобы быть уверенным с вероятностью 0.9, что хотя бы 6 раз будет совершено попадание?\n",
    "\n",
    "Подсказка: 1) \"Вероятность попасть k раз при n выстрелах\" - на какое распределение это похоже? 2) А если нам нужна вероятность P(X >= k), а не P(X = k)? 3) Здесь предстоит немножко покодить"
   ]
  },
  {
   "cell_type": "code",
   "execution_count": 67,
   "id": "baca7cec",
   "metadata": {},
   "outputs": [
    {
     "name": "stdout",
     "output_type": "stream",
     "text": [
      "N >= 299\n"
     ]
    }
   ],
   "source": [
    "p = 0.01\n",
    "k = 6\n",
    "P_k = 0.9\n",
    "n_count = 5\n",
    "P_i = 0\n",
    "\n",
    "while P_k != P_i:\n",
    "    n_count += 1\n",
    "    P_i = round (1 - (combinations(n_count, k) * (p)**k * (0.99)**(n_count-k)), 1)\n",
    "else:\n",
    "    print(f'N >= {n_count-1}')"
   ]
  }
 ],
 "metadata": {
  "kernelspec": {
   "display_name": "Python 3",
   "language": "python",
   "name": "python3"
  },
  "language_info": {
   "codemirror_mode": {
    "name": "ipython",
    "version": 3
   },
   "file_extension": ".py",
   "mimetype": "text/x-python",
   "name": "python",
   "nbconvert_exporter": "python",
   "pygments_lexer": "ipython3",
   "version": "3.8.8"
  }
 },
 "nbformat": 4,
 "nbformat_minor": 5
}
