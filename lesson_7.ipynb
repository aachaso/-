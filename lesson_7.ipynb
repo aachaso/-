{
 "cells": [
  {
   "cell_type": "code",
   "execution_count": 177,
   "id": "7d5d45d9",
   "metadata": {},
   "outputs": [],
   "source": [
    "import numpy as np\n",
    "import pandas as pd\n",
    "from sklearn.linear_model import LinearRegression\n",
    "from scipy import stats"
   ]
  },
  {
   "cell_type": "markdown",
   "id": "349c190c",
   "metadata": {},
   "source": [
    "*Задача 1*\n",
    "\n",
    "Дана матрица объект-признак\n",
    "```\n",
    "X = [[ 1.22401313,  2.30868478,  3.03636353,  2.69287214],\n",
    "     [-0.18757272,  1.30337355,  5.12093014,  3.46363202],\n",
    "     [-0.81094525,  1.82463398,  5.79686488,  1.86159445],\n",
    "     [ 0.75129018,  2.67392052,  3.65529809,  1.66746094],\n",
    "     [ 0.00972362,  1.97367255,  2.50594319,  1.69755173],\n",
    "     [-0.62972637,  0.77750764,  2.84124027,  4.54410559],\n",
    "     [ 2.29536229,  1.81206697,  1.95026215,  1.51874636],\n",
    "     [ 0.0920418 ,  2.26971361,  7.47708735,  2.61081203],\n",
    "     [ 2.39252799,  3.17563985,  3.61420599,  5.10773362],\n",
    "     [ 0.54983815,  2.87988651,  1.65752765,  1.59635987]]\n",
    "```\n",
    "и значения целевой переменной\n",
    "```\n",
    "y = [ 9.26193358,  9.700363  ,  8.67214805,  8.74796974,  6.18689108,\n",
    "      7.53312713,  7.57643777, 12.44965478, 14.29010746,  6.68361218]\n",
    "```\n",
    "\n",
    "Подберите два признака (из четырёх) так, чтобы уровень линейной зависимости целевой переменной от значений этих признаков был максимальным. Другими словами, модель линейной регрессии на этих признаках должна давать наилучший результат. В качестве ответа запишите значение коэффициента детерминации для модели на этих признаках.\n"
   ]
  },
  {
   "cell_type": "code",
   "execution_count": 13,
   "id": "30f7585c",
   "metadata": {},
   "outputs": [],
   "source": [
    "X_np = np.array([[ 1.22401313,  2.30868478,  3.03636353,  2.69287214],\n",
    "     [-0.18757272,  1.30337355,  5.12093014,  3.46363202],\n",
    "     [-0.81094525,  1.82463398,  5.79686488,  1.86159445],\n",
    "     [ 0.75129018,  2.67392052,  3.65529809,  1.66746094],\n",
    "     [ 0.00972362,  1.97367255,  2.50594319,  1.69755173],\n",
    "     [-0.62972637,  0.77750764,  2.84124027,  4.54410559],\n",
    "     [ 2.29536229,  1.81206697,  1.95026215,  1.51874636],\n",
    "     [ 0.0920418 ,  2.26971361,  7.47708735,  2.61081203],\n",
    "     [ 2.39252799,  3.17563985,  3.61420599,  5.10773362],\n",
    "     [ 0.54983815,  2.87988651,  1.65752765,  1.59635987]], dtype=np.float64)"
   ]
  },
  {
   "cell_type": "code",
   "execution_count": 21,
   "id": "09adbb9e",
   "metadata": {},
   "outputs": [],
   "source": [
    "y = np.array([ 9.26193358,  9.700363  ,  8.67214805,  8.74796974,  6.18689108,\n",
    "      7.53312713,  7.57643777, 12.44965478, 14.29010746,  6.68361218], dtype=np.float64)"
   ]
  },
  {
   "cell_type": "code",
   "execution_count": 54,
   "id": "ade917b7",
   "metadata": {},
   "outputs": [],
   "source": [
    "X_df = pd.DataFrame({\"x_1\": X_np[:,0],\n",
    "                        \"x_2\": X_np[:,1],\n",
    "                        \"x_3\": X_np[:,2],\n",
    "                        \"x_4\": X_np[:,3]})"
   ]
  },
  {
   "cell_type": "code",
   "execution_count": 73,
   "id": "ef0a8fae",
   "metadata": {},
   "outputs": [],
   "source": [
    "x1_2 = X_df[['x_1', 'x_2']].values\n",
    "x1_3 = X_df[['x_1', 'x_3']].values\n",
    "x1_4 = X_df[['x_1', 'x_4']].values\n",
    "x2_3 = X_df[['x_2', 'x_3']].values\n",
    "x2_4 = X_df[['x_2', 'x_4']].values\n",
    "x3_4 = X_df[['x_3', 'x_4']].values"
   ]
  },
  {
   "cell_type": "code",
   "execution_count": 51,
   "id": "50cb7c5d",
   "metadata": {},
   "outputs": [],
   "source": [
    "def sum_of_squares(samples: np.ndarray) -> float:\n",
    "    \"\"\"Сумма квадратов отклонений.\n",
    "    \"\"\"\n",
    "    \n",
    "    return ((samples - samples.mean()) ** 2).sum()"
   ]
  },
  {
   "cell_type": "code",
   "execution_count": 108,
   "id": "82fe2013",
   "metadata": {},
   "outputs": [
    {
     "data": {
      "text/plain": [
       "array([-0.03012497,  0.17743258, -0.6564009 , -0.52551276, -0.48904355,\n",
       "        1.49033621, -2.14124878, -0.38186703,  2.3988783 ,  0.15755089])"
      ]
     },
     "execution_count": 108,
     "metadata": {},
     "output_type": "execute_result"
    }
   ],
   "source": [
    "ones = np.ones((x1.shape[0], 1))\n",
    "x = np.hstack((ones, x1_3))\n",
    "lr = LinearRegression(fit_intercept=False).fit(x, y)\n",
    "z = x.dot(lr.coef_)\n",
    "e = y - z\n",
    "\n",
    "e"
   ]
  },
  {
   "cell_type": "code",
   "execution_count": 109,
   "id": "19d2af84",
   "metadata": {},
   "outputs": [
    {
     "data": {
      "text/plain": [
       "0.76342462"
      ]
     },
     "execution_count": 109,
     "metadata": {},
     "output_type": "execute_result"
    }
   ],
   "source": [
    "R = round(1 - sum_of_squares(e) / sum_of_squares(y), 8)\n",
    "R"
   ]
  },
  {
   "cell_type": "code",
   "execution_count": 110,
   "id": "d0d282d0",
   "metadata": {},
   "outputs": [],
   "source": [
    "R1_2 = 0.18113595\n",
    "R1_3 = 0.76342462\n",
    "R1_4 = 0.45329668\n",
    "R2_3 = 0.54794827\n",
    "R2_4 = 0.60620558\n",
    "R3_4 = 0.62244199"
   ]
  },
  {
   "cell_type": "code",
   "execution_count": 106,
   "id": "c27f92e6",
   "metadata": {},
   "outputs": [
    {
     "name": "stdout",
     "output_type": "stream",
     "text": [
      "Признаки x_1&x_3 дают наилучший результат. Коэффициент детерминации для модели на этих признаках = 0.76342462\n"
     ]
    }
   ],
   "source": [
    "print(f'Признаки x_1&x_3 дают наилучший результат. Коэффициент детерминации для модели на этих признаках = {R1_3}')"
   ]
  },
  {
   "cell_type": "markdown",
   "id": "47069b53",
   "metadata": {},
   "source": [
    "*Задача 2*\n",
    "\n",
    "Является ли значимым уравнение регрессии, полученное в предыдущей задаче? В качестве ответа запишите 1, если является, и 0 иначе."
   ]
  },
  {
   "cell_type": "code",
   "execution_count": 182,
   "id": "85b61ec3",
   "metadata": {},
   "outputs": [
    {
     "data": {
      "text/plain": [
       "(2, 7)"
      ]
     },
     "execution_count": 182,
     "metadata": {},
     "output_type": "execute_result"
    }
   ],
   "source": [
    "n = x.shape[0]\n",
    "m = x.shape[1] - 1  # поскольку добавляли нулевой фактор\n",
    "\n",
    "k1 = m\n",
    "k2 = n - m - 1\n",
    "\n",
    "k1, k2"
   ]
  },
  {
   "cell_type": "code",
   "execution_count": 183,
   "id": "08e2acda",
   "metadata": {},
   "outputs": [
    {
     "data": {
      "text/plain": [
       "4.73741412777588"
      ]
     },
     "execution_count": 183,
     "metadata": {},
     "output_type": "execute_result"
    }
   ],
   "source": [
    "alpha = 0.05\n",
    "\n",
    "t = stats.f.ppf(1 - alpha, k1, k2)\n",
    "t"
   ]
  },
  {
   "cell_type": "markdown",
   "id": "a733ae4c",
   "metadata": {},
   "source": [
    "Критическая область:\n",
    "$$\\Omega_\\alpha = \\left( 4.74, \\infty \\right)$$"
   ]
  },
  {
   "cell_type": "code",
   "execution_count": 184,
   "id": "839a757c",
   "metadata": {},
   "outputs": [
    {
     "data": {
      "text/plain": [
       "11.29443888032643"
      ]
     },
     "execution_count": 184,
     "metadata": {},
     "output_type": "execute_result"
    }
   ],
   "source": [
    "F = (R1_3 / k1) / ((1 - R1_3) / k2)\n",
    "F"
   ]
  },
  {
   "cell_type": "code",
   "execution_count": 187,
   "id": "8b40c1b1",
   "metadata": {},
   "outputs": [
    {
     "name": "stdout",
     "output_type": "stream",
     "text": [
      "Статистика t = 4.74 попала в критическую область, уравнение регрессии признаётся значимым. Ответ 1\n"
     ]
    }
   ],
   "source": [
    "print(f'Статистика t = {round(t,2)} попала в критическую область, уравнение регрессии признаётся значимым. Ответ 1')"
   ]
  },
  {
   "cell_type": "markdown",
   "id": "0d86f34e",
   "metadata": {},
   "source": [
    "*Задача 3*\n",
    "\n",
    "Для проведения A/B-тестирования сайта интернет-магазина были получены следующие данные: страница `A` была посещена 2509 раз, из них 77 закончились совершением покупки, страница `B` была посещена 1465 раз, 60 из них закончились совершением покупки. Является ли значимым отличие конверсии на страницах `A` и `B`? В качестве ответа запишите 1, если является, и 0 иначе.\n",
    "\n",
    "_Подсказка_. Реализуйте двухвыборочный t-тест. В качестве выборок здесь можно взять наборы меток совершения покупки (0 или 1) каждым посетителем."
   ]
  },
  {
   "cell_type": "code",
   "execution_count": 120,
   "id": "d6fdc98e",
   "metadata": {},
   "outputs": [],
   "source": [
    "а_visit = 2509\n",
    "a_buy = 77\n",
    "\n",
    "b_visit = 1465\n",
    "b_buy = 60"
   ]
  },
  {
   "cell_type": "code",
   "execution_count": 179,
   "id": "c741680b",
   "metadata": {},
   "outputs": [
    {
     "data": {
      "text/plain": [
       "array([[0, 0, 0, ..., 1, 1, 1]])"
      ]
     },
     "execution_count": 179,
     "metadata": {},
     "output_type": "execute_result"
    }
   ],
   "source": [
    "a_0 = np.zeros((1, 2432), dtype=int)\n",
    "a_1 = np.ones((1, 77), dtype=int)\n",
    "\n",
    "a = np.concatenate((a_0, a_1), axis=1)\n",
    "a"
   ]
  },
  {
   "cell_type": "code",
   "execution_count": 167,
   "id": "7c221352",
   "metadata": {},
   "outputs": [],
   "source": [
    "b_0 = np.zeros((1, 1405), dtype=int)\n",
    "b_1 = np.ones((1, 60), dtype=int)\n",
    "\n",
    "b = np.concatenate((b_0, b_1), axis=1)"
   ]
  },
  {
   "cell_type": "code",
   "execution_count": 188,
   "id": "f0bf1d15",
   "metadata": {},
   "outputs": [
    {
     "data": {
      "text/plain": [
       "(2509, 0.17250951379621338, 1465, 0.19825513126725994)"
      ]
     },
     "execution_count": 188,
     "metadata": {},
     "output_type": "execute_result"
    }
   ],
   "source": [
    "n1 = a.size\n",
    "n2 = b.size\n",
    "\n",
    "s1 = a.std(ddof=1)\n",
    "s2 = b.std(ddof=1)\n",
    "\n",
    "n1,s1,n2,s2"
   ]
  },
  {
   "cell_type": "code",
   "execution_count": 189,
   "id": "4687f184",
   "metadata": {},
   "outputs": [
    {
     "data": {
      "text/plain": [
       "0.006220171278295827"
      ]
     },
     "execution_count": 189,
     "metadata": {},
     "output_type": "execute_result"
    }
   ],
   "source": [
    "s_delta = np.sqrt(s1 ** 2 / n1 + s2 ** 2 / n2)\n",
    "s_delta"
   ]
  },
  {
   "cell_type": "code",
   "execution_count": 190,
   "id": "0cd55aa5",
   "metadata": {},
   "outputs": [
    {
     "data": {
      "text/plain": [
       "-1.6504551408398205"
      ]
     },
     "execution_count": 190,
     "metadata": {},
     "output_type": "execute_result"
    }
   ],
   "source": [
    "t = (a.mean() - b.mean()) / s_delta\n",
    "\n",
    "t"
   ]
  },
  {
   "cell_type": "code",
   "execution_count": 191,
   "id": "0b08f238",
   "metadata": {},
   "outputs": [
    {
     "data": {
      "text/plain": [
       "2732.8025644352133"
      ]
     },
     "execution_count": 191,
     "metadata": {},
     "output_type": "execute_result"
    }
   ],
   "source": [
    "df = (s1 ** 2 / n1 + s2 ** 2 / n2) ** 2 / \\\n",
    "    ((s1 ** 2 / n1) ** 2 / (n1 - 1) + (s2 ** 2 / n2) ** 2 / (n2 - 1))\n",
    "\n",
    "df"
   ]
  },
  {
   "cell_type": "code",
   "execution_count": 193,
   "id": "a1d76efd",
   "metadata": {},
   "outputs": [
    {
     "data": {
      "text/plain": [
       "(-1.9608324352746576, 1.9608324352746571)"
      ]
     },
     "execution_count": 193,
     "metadata": {},
     "output_type": "execute_result"
    }
   ],
   "source": [
    "alpha = 0.05\n",
    "\n",
    "t1 = stats.t.ppf(alpha / 2, df=df)\n",
    "t2 = stats.t.ppf(1 - alpha / 2, df=df)\n",
    "\n",
    "t1, t2"
   ]
  },
  {
   "cell_type": "markdown",
   "id": "c7905ac2",
   "metadata": {},
   "source": [
    "Критическая область имеет вид:\n",
    "$$\\Omega_\\alpha = (-\\infty, -1.96) \\cup (1.96, \\infty)$$"
   ]
  },
  {
   "cell_type": "code",
   "execution_count": 196,
   "id": "6cc7c8fc",
   "metadata": {},
   "outputs": [
    {
     "name": "stdout",
     "output_type": "stream",
     "text": [
      "Статистика t = -1.65 не попала в критическую область, уравнение регрессии признаётся незначимым. Ответ 0\n"
     ]
    }
   ],
   "source": [
    "print(f'Статистика t = {round(t,2)} не попала в критическую область, уравнение регрессии признаётся незначимым. Ответ 0')"
   ]
  }
 ],
 "metadata": {
  "kernelspec": {
   "display_name": "Python 3",
   "language": "python",
   "name": "python3"
  },
  "language_info": {
   "codemirror_mode": {
    "name": "ipython",
    "version": 3
   },
   "file_extension": ".py",
   "mimetype": "text/x-python",
   "name": "python",
   "nbconvert_exporter": "python",
   "pygments_lexer": "ipython3",
   "version": "3.8.8"
  }
 },
 "nbformat": 4,
 "nbformat_minor": 5
}
