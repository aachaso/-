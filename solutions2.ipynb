{
  "nbformat": 4,
  "nbformat_minor": 0,
  "metadata": {
    "kernelspec": {
      "display_name": "Python 3",
      "language": "python",
      "name": "python3"
    },
    "language_info": {
      "codemirror_mode": {
        "name": "ipython",
        "version": 3
      },
      "file_extension": ".py",
      "mimetype": "text/x-python",
      "name": "python",
      "nbconvert_exporter": "python",
      "pygments_lexer": "ipython3",
      "version": "3.8.5"
    },
    "colab": {
      "name": "solutions2.ipynb",
      "provenance": []
    }
  },
  "cells": [
    {
      "cell_type": "markdown",
      "metadata": {
        "id": "RKNkTA7QfnKv"
      },
      "source": [
        "# Теория вероятностей и математическая статистика\n",
        "\n",
        "## Урок 2\n",
        "\n",
        "## Дискретные случайные величины. Закон распределения вероятностей.  Биномиальный закон распределения. Распределение Пуассона\n",
        "\n",
        "### Разбор домашнего задания"
      ]
    },
    {
      "cell_type": "markdown",
      "metadata": {
        "id": "WdXwCfxXfnK2"
      },
      "source": [
        "__Задачи 1 и 2__\n",
        "\n",
        "Контрольная работа состоит из пяти вопросов. На каждый вопрос приведено четыре варианта ответа, один из которых правильный. Случайная величина `X` задаёт число правильных ответов при простом угадывании. Найдите математическое ожидание данной случайной величины. Найдите дисперсию случайной величины `X`.\n",
        "\n",
        "_Подсказка_: постройте закон распределения случайной величины `X`."
      ]
    },
    {
      "cell_type": "markdown",
      "metadata": {
        "id": "tYiuGqUufnK3"
      },
      "source": [
        "__Решение__\n",
        "\n",
        "Угадывать ответы на каждый вопрос мы собираемся независимо, поэтому воспользуемся биномиальным распределением. В нашем случае $n = 5$ и $p = \\dfrac{1}{4}$. Итак,\n",
        "$$P(X = k) = C_5^k \\cdot 0.25^k \\cdot 0.75^{5 - k},$$\n",
        "\n",
        "где $k$ — число от 0 до 5 включительно."
      ]
    },
    {
      "cell_type": "code",
      "metadata": {
        "execution": {
          "iopub.execute_input": "2021-02-13T12:55:33.236782Z",
          "iopub.status.busy": "2021-02-13T12:55:33.235356Z",
          "iopub.status.idle": "2021-02-13T12:55:33.621760Z",
          "shell.execute_reply": "2021-02-13T12:55:33.620929Z"
        },
        "id": "PrYsmsMdfnK3"
      },
      "source": [
        "import numpy as np\n",
        "from matplotlib import pyplot as plt\n",
        "\n",
        "plt.style.use('seaborn-whitegrid')\n",
        "%config InlineBackend.figure_formats = ['svg']"
      ],
      "execution_count": null,
      "outputs": []
    },
    {
      "cell_type": "code",
      "metadata": {
        "execution": {
          "iopub.execute_input": "2021-02-13T12:55:33.627129Z",
          "iopub.status.busy": "2021-02-13T12:55:33.626407Z",
          "iopub.status.idle": "2021-02-13T12:55:33.628200Z",
          "shell.execute_reply": "2021-02-13T12:55:33.628822Z"
        },
        "id": "F1HUw_Z-fnK4"
      },
      "source": [
        "def combinations(n: int, k: int) -> int:\n",
        "    \"\"\"Число сочетаний.\n",
        "    \"\"\"\n",
        "    \n",
        "    return np.math.factorial(n) // (np.math.factorial(k) * np.math.factorial(n - k))"
      ],
      "execution_count": null,
      "outputs": []
    },
    {
      "cell_type": "code",
      "metadata": {
        "execution": {
          "iopub.execute_input": "2021-02-13T12:55:33.632798Z",
          "iopub.status.busy": "2021-02-13T12:55:33.632129Z",
          "iopub.status.idle": "2021-02-13T12:55:33.633831Z",
          "shell.execute_reply": "2021-02-13T12:55:33.634446Z"
        },
        "id": "dJ5Z_AoZfnK5"
      },
      "source": [
        "n = 5\n",
        "p = 0.25"
      ],
      "execution_count": null,
      "outputs": []
    },
    {
      "cell_type": "code",
      "metadata": {
        "execution": {
          "iopub.execute_input": "2021-02-13T12:55:33.638633Z",
          "iopub.status.busy": "2021-02-13T12:55:33.637996Z",
          "iopub.status.idle": "2021-02-13T12:55:33.639583Z",
          "shell.execute_reply": "2021-02-13T12:55:33.640204Z"
        },
        "id": "39TQgccHfnK6"
      },
      "source": [
        "def proba(k: int) -> float:\n",
        "    return combinations(n, k) * (p ** k) * ((1 - p) ** (n - k))"
      ],
      "execution_count": null,
      "outputs": []
    },
    {
      "cell_type": "code",
      "metadata": {
        "execution": {
          "iopub.execute_input": "2021-02-13T12:55:33.644468Z",
          "iopub.status.busy": "2021-02-13T12:55:33.643864Z",
          "iopub.status.idle": "2021-02-13T12:55:33.646045Z",
          "shell.execute_reply": "2021-02-13T12:55:33.646719Z"
        },
        "id": "pcpvYF5efnK7",
        "outputId": "2eba66b3-dfce-45a6-a914-529c5bb89274"
      },
      "source": [
        "x_values = np.arange(0, n + 1)\n",
        "\n",
        "print(x_values)"
      ],
      "execution_count": null,
      "outputs": [
        {
          "name": "stdout",
          "output_type": "stream",
          "text": [
            "[0 1 2 3 4 5]\n"
          ]
        }
      ]
    },
    {
      "cell_type": "code",
      "metadata": {
        "execution": {
          "iopub.execute_input": "2021-02-13T12:55:33.651351Z",
          "iopub.status.busy": "2021-02-13T12:55:33.650728Z",
          "iopub.status.idle": "2021-02-13T12:55:33.652956Z",
          "shell.execute_reply": "2021-02-13T12:55:33.653858Z"
        },
        "id": "_tJia7MefnK_",
        "outputId": "4a573049-c6d4-4c63-ad85-307a3b4e44c4"
      },
      "source": [
        "x_probas = np.array([proba(value) for value in x_values])\n",
        "\n",
        "print(x_probas)"
      ],
      "execution_count": null,
      "outputs": [
        {
          "name": "stdout",
          "output_type": "stream",
          "text": [
            "[0.23730469 0.39550781 0.26367188 0.08789062 0.01464844 0.00097656]\n"
          ]
        }
      ]
    },
    {
      "cell_type": "code",
      "metadata": {
        "execution": {
          "iopub.execute_input": "2021-02-13T12:55:33.679642Z",
          "iopub.status.busy": "2021-02-13T12:55:33.678825Z",
          "iopub.status.idle": "2021-02-13T12:55:33.781051Z",
          "shell.execute_reply": "2021-02-13T12:55:33.781780Z"
        },
        "id": "aTyDdueEfnLA",
        "outputId": "e7af1822-9278-445a-9574-51a134d91c52"
      },
      "source": [
        "plt.plot(x_values, x_probas)"
      ],
      "execution_count": null,
      "outputs": [
        {
          "data": {
            "text/plain": [
              "[<matplotlib.lines.Line2D at 0x120bf7490>]"
            ]
          },
          "execution_count": 1,
          "metadata": {},
          "output_type": "execute_result"
        },
        {
          "data": {
            "image/svg+xml": [
              "<?xml version=\"1.0\" encoding=\"utf-8\" standalone=\"no\"?>\n",
              "<!DOCTYPE svg PUBLIC \"-//W3C//DTD SVG 1.1//EN\"\n",
              "  \"http://www.w3.org/Graphics/SVG/1.1/DTD/svg11.dtd\">\n",
              "<!-- Created with matplotlib (https://matplotlib.org/) -->\n",
              "<svg height=\"244.485312pt\" version=\"1.1\" viewBox=\"0 0 372.160937 244.485312\" width=\"372.160937pt\" xmlns=\"http://www.w3.org/2000/svg\" xmlns:xlink=\"http://www.w3.org/1999/xlink\">\n",
              " <metadata>\n",
              "  <rdf:RDF xmlns:cc=\"http://creativecommons.org/ns#\" xmlns:dc=\"http://purl.org/dc/elements/1.1/\" xmlns:rdf=\"http://www.w3.org/1999/02/22-rdf-syntax-ns#\">\n",
              "   <cc:Work>\n",
              "    <dc:type rdf:resource=\"http://purl.org/dc/dcmitype/StillImage\"/>\n",
              "    <dc:date>2021-02-13T15:55:33.748245</dc:date>\n",
              "    <dc:format>image/svg+xml</dc:format>\n",
              "    <dc:creator>\n",
              "     <cc:Agent>\n",
              "      <dc:title>Matplotlib v3.3.3, https://matplotlib.org/</dc:title>\n",
              "     </cc:Agent>\n",
              "    </dc:creator>\n",
              "   </cc:Work>\n",
              "  </rdf:RDF>\n",
              " </metadata>\n",
              " <defs>\n",
              "  <style type=\"text/css\">*{stroke-linecap:butt;stroke-linejoin:round;}</style>\n",
              " </defs>\n",
              " <g id=\"figure_1\">\n",
              "  <g id=\"patch_1\">\n",
              "   <path d=\"M 0 244.485312 \n",
              "L 372.160937 244.485312 \n",
              "L 372.160937 0 \n",
              "L 0 0 \n",
              "z\n",
              "\" style=\"fill:#ffffff;\"/>\n",
              "  </g>\n",
              "  <g id=\"axes_1\">\n",
              "   <g id=\"patch_2\">\n",
              "    <path d=\"M 30.160938 224.64 \n",
              "L 364.960938 224.64 \n",
              "L 364.960938 7.2 \n",
              "L 30.160938 7.2 \n",
              "z\n",
              "\" style=\"fill:#ffffff;\"/>\n",
              "   </g>\n",
              "   <g id=\"matplotlib.axis_1\">\n",
              "    <g id=\"xtick_1\">\n",
              "     <g id=\"line2d_1\">\n",
              "      <path clip-path=\"url(#pea728a53e0)\" d=\"M 45.379119 224.64 \n",
              "L 45.379119 7.2 \n",
              "\" style=\"fill:none;stroke:#cccccc;stroke-linecap:round;stroke-width:0.8;\"/>\n",
              "     </g>\n",
              "     <g id=\"line2d_2\"/>\n",
              "     <g id=\"text_1\">\n",
              "      <!-- 0 -->\n",
              "      <g style=\"fill:#262626;\" transform=\"translate(42.598651 235.297812)scale(0.1 -0.1)\">\n",
              "       <defs>\n",
              "        <path d=\"M 4.15625 35.296875 \n",
              "Q 4.15625 48 6.765625 55.734375 \n",
              "Q 9.375 63.484375 14.515625 67.671875 \n",
              "Q 19.671875 71.875 27.484375 71.875 \n",
              "Q 33.25 71.875 37.59375 69.546875 \n",
              "Q 41.9375 67.234375 44.765625 62.859375 \n",
              "Q 47.609375 58.5 49.21875 52.21875 \n",
              "Q 50.828125 45.953125 50.828125 35.296875 \n",
              "Q 50.828125 22.703125 48.234375 14.96875 \n",
              "Q 45.65625 7.234375 40.5 3 \n",
              "Q 35.359375 -1.21875 27.484375 -1.21875 \n",
              "Q 17.140625 -1.21875 11.234375 6.203125 \n",
              "Q 4.15625 15.140625 4.15625 35.296875 \n",
              "z\n",
              "M 13.1875 35.296875 \n",
              "Q 13.1875 17.671875 17.3125 11.828125 \n",
              "Q 21.4375 6 27.484375 6 \n",
              "Q 33.546875 6 37.671875 11.859375 \n",
              "Q 41.796875 17.71875 41.796875 35.296875 \n",
              "Q 41.796875 52.984375 37.671875 58.78125 \n",
              "Q 33.546875 64.59375 27.390625 64.59375 \n",
              "Q 21.34375 64.59375 17.71875 59.46875 \n",
              "Q 13.1875 52.9375 13.1875 35.296875 \n",
              "z\n",
              "\" id=\"ArialMT-48\"/>\n",
              "       </defs>\n",
              "       <use xlink:href=\"#ArialMT-48\"/>\n",
              "      </g>\n",
              "     </g>\n",
              "    </g>\n",
              "    <g id=\"xtick_2\">\n",
              "     <g id=\"line2d_3\">\n",
              "      <path clip-path=\"url(#pea728a53e0)\" d=\"M 106.251847 224.64 \n",
              "L 106.251847 7.2 \n",
              "\" style=\"fill:none;stroke:#cccccc;stroke-linecap:round;stroke-width:0.8;\"/>\n",
              "     </g>\n",
              "     <g id=\"line2d_4\"/>\n",
              "     <g id=\"text_2\">\n",
              "      <!-- 1 -->\n",
              "      <g style=\"fill:#262626;\" transform=\"translate(103.471378 235.297812)scale(0.1 -0.1)\">\n",
              "       <defs>\n",
              "        <path d=\"M 37.25 0 \n",
              "L 28.46875 0 \n",
              "L 28.46875 56 \n",
              "Q 25.296875 52.984375 20.140625 49.953125 \n",
              "Q 14.984375 46.921875 10.890625 45.40625 \n",
              "L 10.890625 53.90625 \n",
              "Q 18.265625 57.375 23.78125 62.296875 \n",
              "Q 29.296875 67.234375 31.59375 71.875 \n",
              "L 37.25 71.875 \n",
              "z\n",
              "\" id=\"ArialMT-49\"/>\n",
              "       </defs>\n",
              "       <use xlink:href=\"#ArialMT-49\"/>\n",
              "      </g>\n",
              "     </g>\n",
              "    </g>\n",
              "    <g id=\"xtick_3\">\n",
              "     <g id=\"line2d_5\">\n",
              "      <path clip-path=\"url(#pea728a53e0)\" d=\"M 167.124574 224.64 \n",
              "L 167.124574 7.2 \n",
              "\" style=\"fill:none;stroke:#cccccc;stroke-linecap:round;stroke-width:0.8;\"/>\n",
              "     </g>\n",
              "     <g id=\"line2d_6\"/>\n",
              "     <g id=\"text_3\">\n",
              "      <!-- 2 -->\n",
              "      <g style=\"fill:#262626;\" transform=\"translate(164.344105 235.297812)scale(0.1 -0.1)\">\n",
              "       <defs>\n",
              "        <path d=\"M 50.34375 8.453125 \n",
              "L 50.34375 0 \n",
              "L 3.03125 0 \n",
              "Q 2.9375 3.171875 4.046875 6.109375 \n",
              "Q 5.859375 10.9375 9.828125 15.625 \n",
              "Q 13.8125 20.3125 21.34375 26.46875 \n",
              "Q 33.015625 36.03125 37.109375 41.625 \n",
              "Q 41.21875 47.21875 41.21875 52.203125 \n",
              "Q 41.21875 57.421875 37.46875 61 \n",
              "Q 33.734375 64.59375 27.734375 64.59375 \n",
              "Q 21.390625 64.59375 17.578125 60.78125 \n",
              "Q 13.765625 56.984375 13.71875 50.25 \n",
              "L 4.6875 51.171875 \n",
              "Q 5.609375 61.28125 11.65625 66.578125 \n",
              "Q 17.71875 71.875 27.9375 71.875 \n",
              "Q 38.234375 71.875 44.234375 66.15625 \n",
              "Q 50.25 60.453125 50.25 52 \n",
              "Q 50.25 47.703125 48.484375 43.546875 \n",
              "Q 46.734375 39.40625 42.65625 34.8125 \n",
              "Q 38.578125 30.21875 29.109375 22.21875 \n",
              "Q 21.1875 15.578125 18.9375 13.203125 \n",
              "Q 16.703125 10.84375 15.234375 8.453125 \n",
              "z\n",
              "\" id=\"ArialMT-50\"/>\n",
              "       </defs>\n",
              "       <use xlink:href=\"#ArialMT-50\"/>\n",
              "      </g>\n",
              "     </g>\n",
              "    </g>\n",
              "    <g id=\"xtick_4\">\n",
              "     <g id=\"line2d_7\">\n",
              "      <path clip-path=\"url(#pea728a53e0)\" d=\"M 227.997301 224.64 \n",
              "L 227.997301 7.2 \n",
              "\" style=\"fill:none;stroke:#cccccc;stroke-linecap:round;stroke-width:0.8;\"/>\n",
              "     </g>\n",
              "     <g id=\"line2d_8\"/>\n",
              "     <g id=\"text_4\">\n",
              "      <!-- 3 -->\n",
              "      <g style=\"fill:#262626;\" transform=\"translate(225.216832 235.297812)scale(0.1 -0.1)\">\n",
              "       <defs>\n",
              "        <path d=\"M 4.203125 18.890625 \n",
              "L 12.984375 20.0625 \n",
              "Q 14.5 12.59375 18.140625 9.296875 \n",
              "Q 21.78125 6 27 6 \n",
              "Q 33.203125 6 37.46875 10.296875 \n",
              "Q 41.75 14.59375 41.75 20.953125 \n",
              "Q 41.75 27 37.796875 30.921875 \n",
              "Q 33.84375 34.859375 27.734375 34.859375 \n",
              "Q 25.25 34.859375 21.53125 33.890625 \n",
              "L 22.515625 41.609375 \n",
              "Q 23.390625 41.5 23.921875 41.5 \n",
              "Q 29.546875 41.5 34.03125 44.421875 \n",
              "Q 38.53125 47.359375 38.53125 53.46875 \n",
              "Q 38.53125 58.296875 35.25 61.46875 \n",
              "Q 31.984375 64.65625 26.8125 64.65625 \n",
              "Q 21.6875 64.65625 18.265625 61.421875 \n",
              "Q 14.84375 58.203125 13.875 51.765625 \n",
              "L 5.078125 53.328125 \n",
              "Q 6.6875 62.15625 12.390625 67.015625 \n",
              "Q 18.109375 71.875 26.609375 71.875 \n",
              "Q 32.46875 71.875 37.390625 69.359375 \n",
              "Q 42.328125 66.84375 44.9375 62.5 \n",
              "Q 47.5625 58.15625 47.5625 53.265625 \n",
              "Q 47.5625 48.640625 45.0625 44.828125 \n",
              "Q 42.578125 41.015625 37.703125 38.765625 \n",
              "Q 44.046875 37.3125 47.5625 32.6875 \n",
              "Q 51.078125 28.078125 51.078125 21.140625 \n",
              "Q 51.078125 11.765625 44.234375 5.25 \n",
              "Q 37.40625 -1.265625 26.953125 -1.265625 \n",
              "Q 17.53125 -1.265625 11.296875 4.34375 \n",
              "Q 5.078125 9.96875 4.203125 18.890625 \n",
              "z\n",
              "\" id=\"ArialMT-51\"/>\n",
              "       </defs>\n",
              "       <use xlink:href=\"#ArialMT-51\"/>\n",
              "      </g>\n",
              "     </g>\n",
              "    </g>\n",
              "    <g id=\"xtick_5\">\n",
              "     <g id=\"line2d_9\">\n",
              "      <path clip-path=\"url(#pea728a53e0)\" d=\"M 288.870028 224.64 \n",
              "L 288.870028 7.2 \n",
              "\" style=\"fill:none;stroke:#cccccc;stroke-linecap:round;stroke-width:0.8;\"/>\n",
              "     </g>\n",
              "     <g id=\"line2d_10\"/>\n",
              "     <g id=\"text_5\">\n",
              "      <!-- 4 -->\n",
              "      <g style=\"fill:#262626;\" transform=\"translate(286.08956 235.297812)scale(0.1 -0.1)\">\n",
              "       <defs>\n",
              "        <path d=\"M 32.328125 0 \n",
              "L 32.328125 17.140625 \n",
              "L 1.265625 17.140625 \n",
              "L 1.265625 25.203125 \n",
              "L 33.9375 71.578125 \n",
              "L 41.109375 71.578125 \n",
              "L 41.109375 25.203125 \n",
              "L 50.78125 25.203125 \n",
              "L 50.78125 17.140625 \n",
              "L 41.109375 17.140625 \n",
              "L 41.109375 0 \n",
              "z\n",
              "M 32.328125 25.203125 \n",
              "L 32.328125 57.46875 \n",
              "L 9.90625 25.203125 \n",
              "z\n",
              "\" id=\"ArialMT-52\"/>\n",
              "       </defs>\n",
              "       <use xlink:href=\"#ArialMT-52\"/>\n",
              "      </g>\n",
              "     </g>\n",
              "    </g>\n",
              "    <g id=\"xtick_6\">\n",
              "     <g id=\"line2d_11\">\n",
              "      <path clip-path=\"url(#pea728a53e0)\" d=\"M 349.742756 224.64 \n",
              "L 349.742756 7.2 \n",
              "\" style=\"fill:none;stroke:#cccccc;stroke-linecap:round;stroke-width:0.8;\"/>\n",
              "     </g>\n",
              "     <g id=\"line2d_12\"/>\n",
              "     <g id=\"text_6\">\n",
              "      <!-- 5 -->\n",
              "      <g style=\"fill:#262626;\" transform=\"translate(346.962287 235.297812)scale(0.1 -0.1)\">\n",
              "       <defs>\n",
              "        <path d=\"M 4.15625 18.75 \n",
              "L 13.375 19.53125 \n",
              "Q 14.40625 12.796875 18.140625 9.390625 \n",
              "Q 21.875 6 27.15625 6 \n",
              "Q 33.5 6 37.890625 10.78125 \n",
              "Q 42.28125 15.578125 42.28125 23.484375 \n",
              "Q 42.28125 31 38.0625 35.34375 \n",
              "Q 33.84375 39.703125 27 39.703125 \n",
              "Q 22.75 39.703125 19.328125 37.765625 \n",
              "Q 15.921875 35.84375 13.96875 32.765625 \n",
              "L 5.71875 33.84375 \n",
              "L 12.640625 70.609375 \n",
              "L 48.25 70.609375 \n",
              "L 48.25 62.203125 \n",
              "L 19.671875 62.203125 \n",
              "L 15.828125 42.96875 \n",
              "Q 22.265625 47.46875 29.34375 47.46875 \n",
              "Q 38.71875 47.46875 45.15625 40.96875 \n",
              "Q 51.609375 34.46875 51.609375 24.265625 \n",
              "Q 51.609375 14.546875 45.953125 7.46875 \n",
              "Q 39.0625 -1.21875 27.15625 -1.21875 \n",
              "Q 17.390625 -1.21875 11.203125 4.25 \n",
              "Q 5.03125 9.71875 4.15625 18.75 \n",
              "z\n",
              "\" id=\"ArialMT-53\"/>\n",
              "       </defs>\n",
              "       <use xlink:href=\"#ArialMT-53\"/>\n",
              "      </g>\n",
              "     </g>\n",
              "    </g>\n",
              "   </g>\n",
              "   <g id=\"matplotlib.axis_2\">\n",
              "    <g id=\"ytick_1\">\n",
              "     <g id=\"line2d_13\">\n",
              "      <path clip-path=\"url(#pea728a53e0)\" d=\"M 30.160938 215.245653 \n",
              "L 364.960938 215.245653 \n",
              "\" style=\"fill:none;stroke:#cccccc;stroke-linecap:round;stroke-width:0.8;\"/>\n",
              "     </g>\n",
              "     <g id=\"line2d_14\"/>\n",
              "     <g id=\"text_7\">\n",
              "      <!-- 0.00 -->\n",
              "      <g style=\"fill:#262626;\" transform=\"translate(7.2 218.824559)scale(0.1 -0.1)\">\n",
              "       <defs>\n",
              "        <path d=\"M 9.078125 0 \n",
              "L 9.078125 10.015625 \n",
              "L 19.09375 10.015625 \n",
              "L 19.09375 0 \n",
              "z\n",
              "\" id=\"ArialMT-46\"/>\n",
              "       </defs>\n",
              "       <use xlink:href=\"#ArialMT-48\"/>\n",
              "       <use x=\"55.615234\" xlink:href=\"#ArialMT-46\"/>\n",
              "       <use x=\"83.398438\" xlink:href=\"#ArialMT-48\"/>\n",
              "       <use x=\"139.013672\" xlink:href=\"#ArialMT-48\"/>\n",
              "      </g>\n",
              "     </g>\n",
              "    </g>\n",
              "    <g id=\"ytick_2\">\n",
              "     <g id=\"line2d_15\">\n",
              "      <path clip-path=\"url(#pea728a53e0)\" d=\"M 30.160938 190.194059 \n",
              "L 364.960938 190.194059 \n",
              "\" style=\"fill:none;stroke:#cccccc;stroke-linecap:round;stroke-width:0.8;\"/>\n",
              "     </g>\n",
              "     <g id=\"line2d_16\"/>\n",
              "     <g id=\"text_8\">\n",
              "      <!-- 0.05 -->\n",
              "      <g style=\"fill:#262626;\" transform=\"translate(7.2 193.772966)scale(0.1 -0.1)\">\n",
              "       <use xlink:href=\"#ArialMT-48\"/>\n",
              "       <use x=\"55.615234\" xlink:href=\"#ArialMT-46\"/>\n",
              "       <use x=\"83.398438\" xlink:href=\"#ArialMT-48\"/>\n",
              "       <use x=\"139.013672\" xlink:href=\"#ArialMT-53\"/>\n",
              "      </g>\n",
              "     </g>\n",
              "    </g>\n",
              "    <g id=\"ytick_3\">\n",
              "     <g id=\"line2d_17\">\n",
              "      <path clip-path=\"url(#pea728a53e0)\" d=\"M 30.160938 165.142466 \n",
              "L 364.960938 165.142466 \n",
              "\" style=\"fill:none;stroke:#cccccc;stroke-linecap:round;stroke-width:0.8;\"/>\n",
              "     </g>\n",
              "     <g id=\"line2d_18\"/>\n",
              "     <g id=\"text_9\">\n",
              "      <!-- 0.10 -->\n",
              "      <g style=\"fill:#262626;\" transform=\"translate(7.2 168.721372)scale(0.1 -0.1)\">\n",
              "       <use xlink:href=\"#ArialMT-48\"/>\n",
              "       <use x=\"55.615234\" xlink:href=\"#ArialMT-46\"/>\n",
              "       <use x=\"83.398438\" xlink:href=\"#ArialMT-49\"/>\n",
              "       <use x=\"139.013672\" xlink:href=\"#ArialMT-48\"/>\n",
              "      </g>\n",
              "     </g>\n",
              "    </g>\n",
              "    <g id=\"ytick_4\">\n",
              "     <g id=\"line2d_19\">\n",
              "      <path clip-path=\"url(#pea728a53e0)\" d=\"M 30.160938 140.090873 \n",
              "L 364.960938 140.090873 \n",
              "\" style=\"fill:none;stroke:#cccccc;stroke-linecap:round;stroke-width:0.8;\"/>\n",
              "     </g>\n",
              "     <g id=\"line2d_20\"/>\n",
              "     <g id=\"text_10\">\n",
              "      <!-- 0.15 -->\n",
              "      <g style=\"fill:#262626;\" transform=\"translate(7.2 143.669779)scale(0.1 -0.1)\">\n",
              "       <use xlink:href=\"#ArialMT-48\"/>\n",
              "       <use x=\"55.615234\" xlink:href=\"#ArialMT-46\"/>\n",
              "       <use x=\"83.398438\" xlink:href=\"#ArialMT-49\"/>\n",
              "       <use x=\"139.013672\" xlink:href=\"#ArialMT-53\"/>\n",
              "      </g>\n",
              "     </g>\n",
              "    </g>\n",
              "    <g id=\"ytick_5\">\n",
              "     <g id=\"line2d_21\">\n",
              "      <path clip-path=\"url(#pea728a53e0)\" d=\"M 30.160938 115.03928 \n",
              "L 364.960938 115.03928 \n",
              "\" style=\"fill:none;stroke:#cccccc;stroke-linecap:round;stroke-width:0.8;\"/>\n",
              "     </g>\n",
              "     <g id=\"line2d_22\"/>\n",
              "     <g id=\"text_11\">\n",
              "      <!-- 0.20 -->\n",
              "      <g style=\"fill:#262626;\" transform=\"translate(7.2 118.618186)scale(0.1 -0.1)\">\n",
              "       <use xlink:href=\"#ArialMT-48\"/>\n",
              "       <use x=\"55.615234\" xlink:href=\"#ArialMT-46\"/>\n",
              "       <use x=\"83.398438\" xlink:href=\"#ArialMT-50\"/>\n",
              "       <use x=\"139.013672\" xlink:href=\"#ArialMT-48\"/>\n",
              "      </g>\n",
              "     </g>\n",
              "    </g>\n",
              "    <g id=\"ytick_6\">\n",
              "     <g id=\"line2d_23\">\n",
              "      <path clip-path=\"url(#pea728a53e0)\" d=\"M 30.160938 89.987687 \n",
              "L 364.960938 89.987687 \n",
              "\" style=\"fill:none;stroke:#cccccc;stroke-linecap:round;stroke-width:0.8;\"/>\n",
              "     </g>\n",
              "     <g id=\"line2d_24\"/>\n",
              "     <g id=\"text_12\">\n",
              "      <!-- 0.25 -->\n",
              "      <g style=\"fill:#262626;\" transform=\"translate(7.2 93.566593)scale(0.1 -0.1)\">\n",
              "       <use xlink:href=\"#ArialMT-48\"/>\n",
              "       <use x=\"55.615234\" xlink:href=\"#ArialMT-46\"/>\n",
              "       <use x=\"83.398438\" xlink:href=\"#ArialMT-50\"/>\n",
              "       <use x=\"139.013672\" xlink:href=\"#ArialMT-53\"/>\n",
              "      </g>\n",
              "     </g>\n",
              "    </g>\n",
              "    <g id=\"ytick_7\">\n",
              "     <g id=\"line2d_25\">\n",
              "      <path clip-path=\"url(#pea728a53e0)\" d=\"M 30.160938 64.936094 \n",
              "L 364.960938 64.936094 \n",
              "\" style=\"fill:none;stroke:#cccccc;stroke-linecap:round;stroke-width:0.8;\"/>\n",
              "     </g>\n",
              "     <g id=\"line2d_26\"/>\n",
              "     <g id=\"text_13\">\n",
              "      <!-- 0.30 -->\n",
              "      <g style=\"fill:#262626;\" transform=\"translate(7.2 68.515)scale(0.1 -0.1)\">\n",
              "       <use xlink:href=\"#ArialMT-48\"/>\n",
              "       <use x=\"55.615234\" xlink:href=\"#ArialMT-46\"/>\n",
              "       <use x=\"83.398438\" xlink:href=\"#ArialMT-51\"/>\n",
              "       <use x=\"139.013672\" xlink:href=\"#ArialMT-48\"/>\n",
              "      </g>\n",
              "     </g>\n",
              "    </g>\n",
              "    <g id=\"ytick_8\">\n",
              "     <g id=\"line2d_27\">\n",
              "      <path clip-path=\"url(#pea728a53e0)\" d=\"M 30.160938 39.8845 \n",
              "L 364.960938 39.8845 \n",
              "\" style=\"fill:none;stroke:#cccccc;stroke-linecap:round;stroke-width:0.8;\"/>\n",
              "     </g>\n",
              "     <g id=\"line2d_28\"/>\n",
              "     <g id=\"text_14\">\n",
              "      <!-- 0.35 -->\n",
              "      <g style=\"fill:#262626;\" transform=\"translate(7.2 43.463407)scale(0.1 -0.1)\">\n",
              "       <use xlink:href=\"#ArialMT-48\"/>\n",
              "       <use x=\"55.615234\" xlink:href=\"#ArialMT-46\"/>\n",
              "       <use x=\"83.398438\" xlink:href=\"#ArialMT-51\"/>\n",
              "       <use x=\"139.013672\" xlink:href=\"#ArialMT-53\"/>\n",
              "      </g>\n",
              "     </g>\n",
              "    </g>\n",
              "    <g id=\"ytick_9\">\n",
              "     <g id=\"line2d_29\">\n",
              "      <path clip-path=\"url(#pea728a53e0)\" d=\"M 30.160938 14.832907 \n",
              "L 364.960938 14.832907 \n",
              "\" style=\"fill:none;stroke:#cccccc;stroke-linecap:round;stroke-width:0.8;\"/>\n",
              "     </g>\n",
              "     <g id=\"line2d_30\"/>\n",
              "     <g id=\"text_15\">\n",
              "      <!-- 0.40 -->\n",
              "      <g style=\"fill:#262626;\" transform=\"translate(7.2 18.411814)scale(0.1 -0.1)\">\n",
              "       <use xlink:href=\"#ArialMT-48\"/>\n",
              "       <use x=\"55.615234\" xlink:href=\"#ArialMT-46\"/>\n",
              "       <use x=\"83.398438\" xlink:href=\"#ArialMT-52\"/>\n",
              "       <use x=\"139.013672\" xlink:href=\"#ArialMT-48\"/>\n",
              "      </g>\n",
              "     </g>\n",
              "    </g>\n",
              "   </g>\n",
              "   <g id=\"line2d_31\">\n",
              "    <path clip-path=\"url(#pea728a53e0)\" d=\"M 45.379119 96.348443 \n",
              "L 106.251847 17.083636 \n",
              "L 167.124574 83.137642 \n",
              "L 227.997301 171.209649 \n",
              "L 288.870028 207.906319 \n",
              "L 349.742756 214.756364 \n",
              "\" style=\"fill:none;stroke:#1f77b4;stroke-linecap:round;stroke-width:1.5;\"/>\n",
              "   </g>\n",
              "   <g id=\"patch_3\">\n",
              "    <path d=\"M 30.160938 224.64 \n",
              "L 30.160938 7.2 \n",
              "\" style=\"fill:none;stroke:#cccccc;stroke-linecap:square;stroke-linejoin:miter;\"/>\n",
              "   </g>\n",
              "   <g id=\"patch_4\">\n",
              "    <path d=\"M 364.960938 224.64 \n",
              "L 364.960938 7.2 \n",
              "\" style=\"fill:none;stroke:#cccccc;stroke-linecap:square;stroke-linejoin:miter;\"/>\n",
              "   </g>\n",
              "   <g id=\"patch_5\">\n",
              "    <path d=\"M 30.160938 224.64 \n",
              "L 364.960938 224.64 \n",
              "\" style=\"fill:none;stroke:#cccccc;stroke-linecap:square;stroke-linejoin:miter;\"/>\n",
              "   </g>\n",
              "   <g id=\"patch_6\">\n",
              "    <path d=\"M 30.160938 7.2 \n",
              "L 364.960938 7.2 \n",
              "\" style=\"fill:none;stroke:#cccccc;stroke-linecap:square;stroke-linejoin:miter;\"/>\n",
              "   </g>\n",
              "  </g>\n",
              " </g>\n",
              " <defs>\n",
              "  <clipPath id=\"pea728a53e0\">\n",
              "   <rect height=\"217.44\" width=\"334.8\" x=\"30.160938\" y=\"7.2\"/>\n",
              "  </clipPath>\n",
              " </defs>\n",
              "</svg>\n"
            ],
            "text/plain": [
              "<Figure size 432x288 with 1 Axes>"
            ]
          },
          "metadata": {},
          "output_type": "display_data"
        }
      ]
    },
    {
      "cell_type": "code",
      "metadata": {
        "execution": {
          "iopub.execute_input": "2021-02-13T12:55:33.785974Z",
          "iopub.status.busy": "2021-02-13T12:55:33.785372Z",
          "iopub.status.idle": "2021-02-13T12:55:33.787396Z",
          "shell.execute_reply": "2021-02-13T12:55:33.787960Z"
        },
        "id": "OLq77qyXfnLB",
        "outputId": "9eb763c3-f737-4c68-e5a4-33dd13567d91"
      },
      "source": [
        "x_probas.sum()"
      ],
      "execution_count": null,
      "outputs": [
        {
          "data": {
            "text/plain": [
              "1.0"
            ]
          },
          "execution_count": 1,
          "metadata": {},
          "output_type": "execute_result"
        }
      ]
    },
    {
      "cell_type": "markdown",
      "metadata": {
        "id": "9m2CDFyJfnLB"
      },
      "source": [
        "Посчитаем математическое ожидание и дисперсию напрямую:"
      ]
    },
    {
      "cell_type": "code",
      "metadata": {
        "execution": {
          "iopub.execute_input": "2021-02-13T12:55:33.791845Z",
          "iopub.status.busy": "2021-02-13T12:55:33.791328Z",
          "iopub.status.idle": "2021-02-13T12:55:33.793739Z",
          "shell.execute_reply": "2021-02-13T12:55:33.793297Z"
        },
        "id": "j7YAuQXLfnLB",
        "outputId": "2d3dd5af-f04b-4a74-9102-d449985f9963"
      },
      "source": [
        "m = (x_values * x_probas).sum()\n",
        "\n",
        "print(m)"
      ],
      "execution_count": null,
      "outputs": [
        {
          "name": "stdout",
          "output_type": "stream",
          "text": [
            "1.25\n"
          ]
        }
      ]
    },
    {
      "cell_type": "code",
      "metadata": {
        "execution": {
          "iopub.execute_input": "2021-02-13T12:55:33.798050Z",
          "iopub.status.busy": "2021-02-13T12:55:33.797331Z",
          "iopub.status.idle": "2021-02-13T12:55:33.799466Z",
          "shell.execute_reply": "2021-02-13T12:55:33.800113Z"
        },
        "id": "P6jjqQxBfnLC",
        "outputId": "d14e2c81-6bc6-4d42-f725-ed1c90c9bdaf"
      },
      "source": [
        "y_values = (x_values - m) ** 2\n",
        "\n",
        "d = (y_values * x_probas).sum()\n",
        "\n",
        "print(d)"
      ],
      "execution_count": null,
      "outputs": [
        {
          "name": "stdout",
          "output_type": "stream",
          "text": [
            "0.9375\n"
          ]
        }
      ]
    },
    {
      "cell_type": "markdown",
      "metadata": {
        "id": "MussWHQ9fnLC"
      },
      "source": [
        "Мы знаем, что математическое ожидание биномиального распределения с параметрами $n$, $p$ равно $np$, а дисперсия — $n p (1 - p)$. Сравним эти значения с получившимися у нас выше."
      ]
    },
    {
      "cell_type": "code",
      "metadata": {
        "execution": {
          "iopub.execute_input": "2021-02-13T12:55:33.804030Z",
          "iopub.status.busy": "2021-02-13T12:55:33.803476Z",
          "iopub.status.idle": "2021-02-13T12:55:33.805644Z",
          "shell.execute_reply": "2021-02-13T12:55:33.806252Z"
        },
        "id": "5gF6Xpy6fnLD",
        "outputId": "bf76413d-9092-4e69-b4bd-2a23fba0ae10"
      },
      "source": [
        "n * p"
      ],
      "execution_count": null,
      "outputs": [
        {
          "data": {
            "text/plain": [
              "1.25"
            ]
          },
          "execution_count": 1,
          "metadata": {},
          "output_type": "execute_result"
        }
      ]
    },
    {
      "cell_type": "code",
      "metadata": {
        "execution": {
          "iopub.execute_input": "2021-02-13T12:55:33.810601Z",
          "iopub.status.busy": "2021-02-13T12:55:33.809832Z",
          "iopub.status.idle": "2021-02-13T12:55:33.812666Z",
          "shell.execute_reply": "2021-02-13T12:55:33.813509Z"
        },
        "id": "seZXJHNLfnLD",
        "outputId": "3c87b4a2-db3d-4371-f584-5306747c4a94"
      },
      "source": [
        "n * p * (1 - p)"
      ],
      "execution_count": null,
      "outputs": [
        {
          "data": {
            "text/plain": [
              "0.9375"
            ]
          },
          "execution_count": 1,
          "metadata": {},
          "output_type": "execute_result"
        }
      ]
    },
    {
      "cell_type": "markdown",
      "metadata": {
        "id": "ykt9ipa_fnLD"
      },
      "source": [
        "__Задача 3__\n",
        "\n",
        "Пользователь получает в среднем 10 писем со спамом на свой почтовый ящик за сутки. Найти число `N`, такое, что с вероятностью 0.95 пользователь получит не более `N` писем со спамом за текущий день."
      ]
    },
    {
      "cell_type": "markdown",
      "metadata": {
        "id": "RT8xTxBofnLD"
      },
      "source": [
        "__Решение__\n",
        "\n",
        "Имеем распределение Пуассона с параметром $\\lambda = 10$. Чтобы получить искомое число, будем суммировать вероятности значений, начиная с $0$, пока не достигнем отметки в $0.95$."
      ]
    },
    {
      "cell_type": "code",
      "metadata": {
        "execution": {
          "iopub.execute_input": "2021-02-13T12:55:33.819111Z",
          "iopub.status.busy": "2021-02-13T12:55:33.818301Z",
          "iopub.status.idle": "2021-02-13T12:55:33.820345Z",
          "shell.execute_reply": "2021-02-13T12:55:33.821241Z"
        },
        "id": "VzQcmsvFfnLE"
      },
      "source": [
        "def proba(k: int) -> float:\n",
        "    return (10 ** k) * np.exp(-10) / np.math.factorial(k)"
      ],
      "execution_count": null,
      "outputs": []
    },
    {
      "cell_type": "code",
      "metadata": {
        "execution": {
          "iopub.execute_input": "2021-02-13T12:55:33.826204Z",
          "iopub.status.busy": "2021-02-13T12:55:33.825612Z",
          "iopub.status.idle": "2021-02-13T12:55:33.827914Z",
          "shell.execute_reply": "2021-02-13T12:55:33.828649Z"
        },
        "id": "h2l-t3uCfnLE",
        "outputId": "ea424e20-5759-4cf1-f9c0-b93c6023bc75"
      },
      "source": [
        "i = -1\n",
        "p = 0\n",
        "\n",
        "while p < 0.95:\n",
        "    i += 1\n",
        "    p += proba(i)\n",
        "\n",
        "i, p"
      ],
      "execution_count": null,
      "outputs": [
        {
          "data": {
            "text/plain": [
              "(15, 0.9512595966960214)"
            ]
          },
          "execution_count": 1,
          "metadata": {},
          "output_type": "execute_result"
        }
      ]
    },
    {
      "cell_type": "markdown",
      "metadata": {
        "id": "a9fTJly9fnLF"
      },
      "source": [
        "Кстати, такого рода «процедуры» (нахождения порогового значения по заданной вероятности) являются т.н. квантильными функциями. О них мы поговорим немного позже. Но проверить ответ можно следующим образом?"
      ]
    },
    {
      "cell_type": "code",
      "metadata": {
        "execution": {
          "iopub.execute_input": "2021-02-13T12:55:33.833103Z",
          "iopub.status.busy": "2021-02-13T12:55:33.832457Z",
          "iopub.status.idle": "2021-02-13T12:55:34.178294Z",
          "shell.execute_reply": "2021-02-13T12:55:34.179055Z"
        },
        "id": "Nfe9CF1PfnLF"
      },
      "source": [
        "from scipy import stats"
      ],
      "execution_count": null,
      "outputs": []
    },
    {
      "cell_type": "code",
      "metadata": {
        "execution": {
          "iopub.execute_input": "2021-02-13T12:55:34.184650Z",
          "iopub.status.busy": "2021-02-13T12:55:34.183807Z",
          "iopub.status.idle": "2021-02-13T12:55:34.186703Z",
          "shell.execute_reply": "2021-02-13T12:55:34.187317Z"
        },
        "id": "nhMo126efnLF",
        "outputId": "a32ecbaa-67c6-4146-f44a-73eb4a14e19c"
      },
      "source": [
        "stats.poisson.ppf(0.95, 10)"
      ],
      "execution_count": null,
      "outputs": [
        {
          "data": {
            "text/plain": [
              "15.0"
            ]
          },
          "execution_count": 1,
          "metadata": {},
          "output_type": "execute_result"
        }
      ]
    },
    {
      "cell_type": "markdown",
      "metadata": {
        "id": "3UxkRW6cfnLF"
      },
      "source": [
        "__Задача 4__\n",
        "\n",
        "Производятся выстрелы по мишени. Вероятность попадания в мишень при одном выстреле равна 0.01. Сколько выстрелов нужно сделать чтобы быть уверенным с вероятностью 0.9, что хотя бы 6 раз будет совершено попадание?\n",
        "\n",
        "_Подсказка_: 1) \"Вероятность попасть `k` раз при `n` выстрелах\" - на какое распределение это похоже? 2) А если нам нужна вероятность `P(X >= k)`, а не `P(X = k)`? 3) Здесь предстоит немножко покодить."
      ]
    },
    {
      "cell_type": "markdown",
      "metadata": {
        "id": "GBXDakhpfnLF"
      },
      "source": [
        "__Решение__\n",
        "\n",
        "Вся задача упирается в то, чтобы научиться считать вероятность $P(X \\geq k)$ для величины $X$, имеющей биномиальное распределение. Мы знаем, что\n",
        "$$P(X = k) = C_n^k p^k (1 - p)^{n - k}$$"
      ]
    },
    {
      "cell_type": "code",
      "metadata": {
        "execution": {
          "iopub.execute_input": "2021-02-13T12:55:34.192246Z",
          "iopub.status.busy": "2021-02-13T12:55:34.191616Z",
          "iopub.status.idle": "2021-02-13T12:55:34.193503Z",
          "shell.execute_reply": "2021-02-13T12:55:34.194127Z"
        },
        "id": "7dzVWeuBfnLb"
      },
      "source": [
        "def binom_proba(n: int, k: int, p: float) -> float:\n",
        "    \"\"\"Формула Бернулли.\n",
        "    \"\"\"\n",
        "    \n",
        "    return combinations(n, k) * (p ** k) * ((1 - p) ** (n - k))"
      ],
      "execution_count": null,
      "outputs": []
    },
    {
      "cell_type": "markdown",
      "metadata": {
        "id": "rWgM7D1mfnLb"
      },
      "source": [
        "Чтобы получить вероятность $P(X \\geq k)$, нужно лишь просуммировать отдельные вероятности:\n",
        "$$P(X \\geq k) = \\displaystyle\\sum_{i = k}^n C_n^i p^i (1 - p)^{n - i}$$\n",
        "\n",
        "Альтернативный, более вычислительно оптимальный способ — считать вероятность:\n",
        "$$P(X \\geq k) = 1 - P(X < k) = 1 - \\displaystyle\\sum_{i = 0}^{k - 1} C_n^i p^i (1 - p)^{n - i}$$"
      ]
    },
    {
      "cell_type": "code",
      "metadata": {
        "execution": {
          "iopub.execute_input": "2021-02-13T12:55:34.198796Z",
          "iopub.status.busy": "2021-02-13T12:55:34.198158Z",
          "iopub.status.idle": "2021-02-13T12:55:34.199730Z",
          "shell.execute_reply": "2021-02-13T12:55:34.200345Z"
        },
        "id": "S765ZmupfnLc"
      },
      "source": [
        "def binom_proba_geq(n: int, k: int, p: float) -> float:\n",
        "    \"\"\"Вероятность `P(X >= k)` для биномиального распределения.\n",
        "    \"\"\"\n",
        "    \n",
        "    return 1 - sum(binom_proba(n, i, p) for i in range(k))"
      ],
      "execution_count": null,
      "outputs": []
    },
    {
      "cell_type": "markdown",
      "metadata": {
        "id": "Wum8Ex-FfnLc"
      },
      "source": [
        "Итак, вернёмся к нашей задаче. Вероятность попадания при однократном выстреле равна $0.01$. Нам нужно найти число выстрелов $n$, при котором мы можем быть уверены с вероятностью $0.9$ в по меньшей мере $6$ попаданиях. Беда в том, что полученную выше формулу аналитически обратить невозможно (т.е. нельзя предъявить какую-то функцию, которая по значению вероятности $0.9$ возвращает значение $n$). Поэтому мы это значение будем искать вычислительно.\n",
        "\n",
        "Итак, будем считать значение $P(X \\geq 6)$ по формуле выше, увеличивая число $n$."
      ]
    },
    {
      "cell_type": "code",
      "metadata": {
        "execution": {
          "iopub.execute_input": "2021-02-13T12:55:34.210601Z",
          "iopub.status.busy": "2021-02-13T12:55:34.210063Z",
          "iopub.status.idle": "2021-02-13T12:55:34.410454Z",
          "shell.execute_reply": "2021-02-13T12:55:34.411018Z"
        },
        "id": "VBhzo5wnfnLc",
        "outputId": "bca08689-f11d-4d98-a119-3b7127c101cf"
      },
      "source": [
        "p = 0.01\n",
        "P = 0\n",
        "k = 6\n",
        "n = 9\n",
        "\n",
        "while P < 0.9:\n",
        "    n += 1\n",
        "    P = binom_proba_geq(n, k, p)\n",
        "    \n",
        "    if n % 200 == 0:\n",
        "        print(f'{n}\\t{P}')\n",
        "        \n",
        "print(f'\\nОтвет:\\n{n}\\t{P}')"
      ],
      "execution_count": null,
      "outputs": [
        {
          "name": "stdout",
          "output_type": "stream",
          "text": [
            "200\t0.01602290690917929\n",
            "400\t0.21408092149896019\n",
            "600\t0.5551279698323172\n",
            "800\t0.810143551899295\n",
            "\n",
            "Ответ:\n",
            "926\t0.9003627121531355\n"
          ]
        }
      ]
    },
    {
      "cell_type": "markdown",
      "metadata": {
        "id": "in2wZCUBfnLd"
      },
      "source": [
        "Частым вариантом неверного решения является следующий код:"
      ]
    },
    {
      "cell_type": "code",
      "metadata": {
        "execution": {
          "iopub.execute_input": "2021-02-13T12:55:34.417556Z",
          "iopub.status.busy": "2021-02-13T12:55:34.416816Z",
          "iopub.status.idle": "2021-02-13T12:55:34.419118Z",
          "shell.execute_reply": "2021-02-13T12:55:34.419692Z"
        },
        "id": "WAMTB5qJfnLd",
        "outputId": "d9460a63-47cf-43bf-c412-10b018ba3253"
      },
      "source": [
        "p = 0.01\n",
        "P = 0\n",
        "k = 6\n",
        "n = 5\n",
        "\n",
        "while P < 0.9:\n",
        "    n += 1\n",
        "    P += binom_proba(n, k, p)\n",
        "    \n",
        "    if n % 200 == 0:\n",
        "        print(f'{n}\\t{P}')\n",
        "        \n",
        "print(f'\\nОтвет:\\n{n}\\t{P}')"
      ],
      "execution_count": null,
      "outputs": [
        {
          "name": "stdout",
          "output_type": "stream",
          "text": [
            "200\t0.44128159746548246\n",
            "\n",
            "Ответ:\n",
            "230\t0.9185129699543314\n"
          ]
        }
      ]
    },
    {
      "cell_type": "markdown",
      "metadata": {
        "id": "5sLpveJafnLd"
      },
      "source": [
        "Ошибка здесь заключается в том, что вероятность попасть хотя бы 6 раз с, например, 100-го раза не суммируется из вероятностей попасть ровно 6 раз при меньших количествах выстрелов. Кстати, продолжая этот цикл в том же ключе, можно вообще получить «вероятности» больше единицы, что явно свидетельствует о том, что что-то не так."
      ]
    },
    {
      "cell_type": "code",
      "metadata": {
        "execution": {
          "iopub.execute_input": "2021-02-13T12:55:34.427963Z",
          "iopub.status.busy": "2021-02-13T12:55:34.427260Z",
          "iopub.status.idle": "2021-02-13T12:55:34.429474Z",
          "shell.execute_reply": "2021-02-13T12:55:34.430165Z"
        },
        "id": "JbOm3W1OfnLh",
        "outputId": "8b1abe79-2551-4f20-dd49-f10e94c68706"
      },
      "source": [
        "p = 0.01\n",
        "P = 0\n",
        "k = 6\n",
        "n = 5\n",
        "\n",
        "while P < 10:\n",
        "    n += 1\n",
        "    P += binom_proba(n, k, p)\n",
        "    \n",
        "    if n % 200 == 0:\n",
        "        print(f'{n}\\t{P}')\n",
        "        \n",
        "print(f'\\nОтвет:\\n{n}\\t{P}')"
      ],
      "execution_count": null,
      "outputs": [
        {
          "name": "stdout",
          "output_type": "stream",
          "text": [
            "200\t0.44128159746548246\n",
            "\n",
            "Ответ:\n",
            "390\t10.046288575894186\n"
          ]
        }
      ]
    },
    {
      "cell_type": "code",
      "metadata": {
        "id": "JaJF-hIGfnLh"
      },
      "source": [
        ""
      ],
      "execution_count": null,
      "outputs": []
    }
  ]
}